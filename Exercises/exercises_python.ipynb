{
  "nbformat": 4,
  "nbformat_minor": 0,
  "metadata": {
    "colab": {
      "provenance": [],
      "authorship_tag": "ABX9TyMZVZe9US+aJZkzcu6dep/c",
      "include_colab_link": true
    },
    "kernelspec": {
      "name": "python3",
      "display_name": "Python 3"
    },
    "language_info": {
      "name": "python"
    }
  },
  "cells": [
    {
      "cell_type": "markdown",
      "metadata": {
        "id": "view-in-github",
        "colab_type": "text"
      },
      "source": [
        "<a href=\"https://colab.research.google.com/github/RogerCS17/portfolio-python/blob/main/Exercises/exercises_python.ipynb\" target=\"_parent\"><img src=\"https://colab.research.google.com/assets/colab-badge.svg\" alt=\"Open In Colab\"/></a>"
      ]
    },
    {
      "cell_type": "markdown",
      "source": [
        "# Ejercicios de Lógica de Programacion en Python"
      ],
      "metadata": {
        "id": "pJwJ2BFPmoKE"
      }
    },
    {
      "cell_type": "markdown",
      "source": [
        "## Ejercicio 01: Multiples of 3 or 5\n",
        "If we list all the natural numbers below 10 that are multiples of 3 or 5, we get 3, 5, 6 and 9. The sum of these multiples is 23. Find the sum of all the multiples of 3 or 5 below 1000."
      ],
      "metadata": {
        "id": "wNRWiTdDmsRg"
      }
    },
    {
      "cell_type": "code",
      "execution_count": null,
      "metadata": {
        "colab": {
          "base_uri": "https://localhost:8080/"
        },
        "id": "4J5IAVBWmcKa",
        "outputId": "069c9ee4-35d1-4dfb-b48d-c5d460f02d8a"
      },
      "outputs": [
        {
          "output_type": "stream",
          "name": "stdout",
          "text": [
            "23\n"
          ]
        }
      ],
      "source": [
        "def sum_multiples(number):\n",
        "    array = []\n",
        "    for i in range(number):\n",
        "        if i % 3 == 0 or i % 5 == 0:\n",
        "            array.append(i)\n",
        "    return sum(array)\n",
        "\n",
        "print(sum_multiples(10))"
      ]
    }
  ]
}