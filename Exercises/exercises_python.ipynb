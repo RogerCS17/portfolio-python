{
  "nbformat": 4,
  "nbformat_minor": 0,
  "metadata": {
    "colab": {
      "provenance": [],
      "authorship_tag": "ABX9TyPLdcDooK8Nr/FRCG7KoEYT",
      "include_colab_link": true
    },
    "kernelspec": {
      "name": "python3",
      "display_name": "Python 3"
    },
    "language_info": {
      "name": "python"
    }
  },
  "cells": [
    {
      "cell_type": "markdown",
      "metadata": {
        "id": "view-in-github",
        "colab_type": "text"
      },
      "source": [
        "<a href=\"https://colab.research.google.com/github/RogerCS17/portfolio-python/blob/main/Exercises/exercises_python.ipynb\" target=\"_parent\"><img src=\"https://colab.research.google.com/assets/colab-badge.svg\" alt=\"Open In Colab\"/></a>"
      ]
    },
    {
      "cell_type": "markdown",
      "source": [
        "# Ejercicios de Lógica de Programacion en Python"
      ],
      "metadata": {
        "id": "pJwJ2BFPmoKE"
      }
    },
    {
      "cell_type": "markdown",
      "source": [
        "## Ejercicio 01:\n",
        "Sumar dos números y mostrar su resultado"
      ],
      "metadata": {
        "id": "BNf32vM5v062"
      }
    },
    {
      "cell_type": "code",
      "source": [
        "# Declaramos las variables\n",
        "number01 = 4\n",
        "number02 = 10\n",
        "\n",
        "# Variable que contendrá el resultado\n",
        "resultado = number01 + number02\n",
        "\n",
        "# Mostramos el resultado\n",
        "print(f\"La suma es: {resultado}\")"
      ],
      "metadata": {
        "colab": {
          "base_uri": "https://localhost:8080/"
        },
        "id": "dpY3qqljvrAL",
        "outputId": "f267244e-325c-44a6-9c51-1b2fb4fdb660"
      },
      "execution_count": 1,
      "outputs": [
        {
          "output_type": "stream",
          "name": "stdout",
          "text": [
            "La suma es: 14\n"
          ]
        }
      ]
    },
    {
      "cell_type": "markdown",
      "source": [
        "## Ejercicio 02:\n",
        "Calcular el área de un círculo con un radio dado"
      ],
      "metadata": {
        "id": "zdLk7hPywaVi"
      }
    },
    {
      "cell_type": "code",
      "source": [
        "# Importamos math para el valor constante de PI\n",
        "import math\n",
        "PI = math.pi\n",
        "\n",
        "# Definimos el radio\n",
        "radio = 5\n",
        "\n",
        "# Fórmula para hallar el área de un círculo\n",
        "area = PI * radio * radio\n",
        "\n",
        "# Mostramos el resultado\n",
        "print(f\"El valor del área es: {area}\")"
      ],
      "metadata": {
        "colab": {
          "base_uri": "https://localhost:8080/"
        },
        "id": "TT4SOyVywhq6",
        "outputId": "b946cf13-62d3-496e-df8f-88da6d2005b7"
      },
      "execution_count": 2,
      "outputs": [
        {
          "output_type": "stream",
          "name": "stdout",
          "text": [
            "El valor del área es: 78.53981633974483\n"
          ]
        }
      ]
    },
    {
      "cell_type": "markdown",
      "source": [
        "## Ejercicio 03:\n",
        "Concantena dos cadenas de texto"
      ],
      "metadata": {
        "id": "KOR1uVicxPBW"
      }
    },
    {
      "cell_type": "code",
      "source": [
        "# Definimos dos variables de texto\n",
        "word01 = \"Hello\"\n",
        "word02 = \"world\"\n",
        "\n",
        "# Concantenamos con join\n",
        "word = word01 + \" \" + word02\n",
        "\n",
        "# Mostramos el resultado\n",
        "print(f\"La palabra concatenada es: {word}\")"
      ],
      "metadata": {
        "colab": {
          "base_uri": "https://localhost:8080/"
        },
        "id": "iQ0enn9Uw-nO",
        "outputId": "f01c2576-ac7d-45fd-c4dd-7fc9947b2e0b"
      },
      "execution_count": 3,
      "outputs": [
        {
          "output_type": "stream",
          "name": "stdout",
          "text": [
            "La palabra concatenada es: Hello world\n"
          ]
        }
      ]
    },
    {
      "cell_type": "markdown",
      "source": [
        "## Ejercicio 04:\n",
        "Crear una lista con diferentes elementos e imprimirla"
      ],
      "metadata": {
        "id": "P1By8x0eyF2h"
      }
    },
    {
      "cell_type": "code",
      "source": [
        "# Definimos nuestra lista de nombres\n",
        "array = {\"Roger\", \"Omar\", \"Cabrera\", \"Silva\"}\n",
        "\n",
        "# Mostramos cada elemento de la lista\n",
        "for element in array:\n",
        "  print(element)\n",
        "\n",
        "# Mostramos el resultado\n",
        "print(array)"
      ],
      "metadata": {
        "colab": {
          "base_uri": "https://localhost:8080/"
        },
        "id": "oL84FTE_x6Ij",
        "outputId": "32524f51-3eb3-470f-fe8c-0f8dbb5f3a06"
      },
      "execution_count": 4,
      "outputs": [
        {
          "output_type": "stream",
          "name": "stdout",
          "text": [
            "Roger\n",
            "Cabrera\n",
            "Omar\n",
            "Silva\n",
            "{'Roger', 'Cabrera', 'Omar', 'Silva'}\n"
          ]
        }
      ]
    },
    {
      "cell_type": "markdown",
      "source": [
        "## Ejercicio 05:\n",
        "Por consola, realiza una multiplicación de dos números y muestra el resultado"
      ],
      "metadata": {
        "id": "q7xGQOKDysPp"
      }
    },
    {
      "cell_type": "code",
      "source": [
        "# Variables a multiplicar\n",
        "number01 = int(input(\"Ingrese el primer número: \"))\n",
        "number02 = int(input(\"Ingrese el segundo número: \"))\n",
        "\n",
        "# Resultado\n",
        "result = number01 * number02\n",
        "\n",
        "# Mostramos el resultado\n",
        "print(f\"El resultado de la multiplicación de {number01} y {number02} es: {result}\")"
      ],
      "metadata": {
        "colab": {
          "base_uri": "https://localhost:8080/"
        },
        "id": "-Y67X1Jgyh1e",
        "outputId": "38f4837c-bc05-4212-a424-6e782b2b1b16"
      },
      "execution_count": 5,
      "outputs": [
        {
          "output_type": "stream",
          "name": "stdout",
          "text": [
            "Ingrese el primer número: 5\n",
            "Ingrese el segundo número: 20\n",
            "El resultado de la multiplicación de 5 y 20 es: 100\n"
          ]
        }
      ]
    },
    {
      "cell_type": "markdown",
      "source": [
        "## Ejercicio 06:\n",
        "Crea una cadena de texto y muestra su longitud"
      ],
      "metadata": {
        "id": "DpxRgFZB6rgh"
      }
    },
    {
      "cell_type": "code",
      "source": [
        "# Variable de cadena de texto\n",
        "word = \"Roger\"\n",
        "\n",
        "# Con la función len, podemos hallar su longitud\n",
        "print(f\"La longitud de la cadena de texto es: {len(word)}\")\n",
        "\n",
        "# Podemos contar también iterando sobre la cadena\n",
        "# Contador\n",
        "counter = 0\n",
        "for char in word:\n",
        "  counter +=1\n",
        "\n",
        "# Mostramos el resultado\n",
        "print(f\"La longitud de la cadena de texto es: {counter}\")"
      ],
      "metadata": {
        "colab": {
          "base_uri": "https://localhost:8080/"
        },
        "id": "jdiVQ3FjzQ11",
        "outputId": "9028b5d7-0760-47f2-be0c-5dbdfb25d2be"
      },
      "execution_count": 6,
      "outputs": [
        {
          "output_type": "stream",
          "name": "stdout",
          "text": [
            "La longitud de la cadena de texto es: 5\n",
            "La longitud de la cadena de texto es: 5\n"
          ]
        }
      ]
    },
    {
      "cell_type": "markdown",
      "source": [
        "## Ejercicio 07:\n",
        "Calcula el promedio de una lista de números"
      ],
      "metadata": {
        "id": "q3bjrfKM7oYn"
      }
    },
    {
      "cell_type": "code",
      "source": [
        "# Definimos la lista con nuestros números\n",
        "array_numbers = [10,20,30,40,50]\n",
        "\n",
        "# Podemos usar de las funciones sum y len para resolver el ejercicio\n",
        "average_array_numbers = sum(array_numbers) / len(array_numbers)\n",
        "\n",
        "# Mostramos el resultado\n",
        "print(f\"El promedio de los números de la lista es: {average_array_numbers}\")\n",
        "\n",
        "# También se puede resolver de una manera más tradicional\n",
        "sum_numbers = 0\n",
        "total_numbers = 0\n",
        "for number in array_numbers:\n",
        "  sum_numbers += number\n",
        "  total_numbers += 1\n",
        "average_numbers = sum_numbers / total_numbers\n",
        "\n",
        "# Mostramos el resultado\n",
        "print(f\"El promedio de los números de la lista es: {average_numbers}\")"
      ],
      "metadata": {
        "colab": {
          "base_uri": "https://localhost:8080/"
        },
        "id": "gDWr2lVt72eY",
        "outputId": "96eee4fe-a096-4354-a620-5e5470d2806c"
      },
      "execution_count": 7,
      "outputs": [
        {
          "output_type": "stream",
          "name": "stdout",
          "text": [
            "El promedio de los números de la lista es: 30.0\n",
            "El promedio de los números de la lista es: 30.0\n"
          ]
        }
      ]
    },
    {
      "cell_type": "markdown",
      "source": [
        "## Ejercicio 08:\n",
        "Crea una tupla de números e imprímela"
      ],
      "metadata": {
        "id": "gix_2y5W95Xg"
      }
    },
    {
      "cell_type": "code",
      "source": [
        "# Una tupla es una colección inmutable, es decir, no se puede modificar\n",
        "# una vez ya se ha creado\n",
        "\n",
        "# Creamos la tupla\n",
        "array_tuple = (1,2,3,4,5)\n",
        "\n",
        "# Mostramos el resultado\n",
        "print(f\"La tupla es: {array_tuple} y es de tipo {type(array_tuple)}\")"
      ],
      "metadata": {
        "colab": {
          "base_uri": "https://localhost:8080/"
        },
        "id": "l_WHwLgS94uV",
        "outputId": "49cd849f-c2fd-4c43-cce5-46ee1c12dab9"
      },
      "execution_count": 8,
      "outputs": [
        {
          "output_type": "stream",
          "name": "stdout",
          "text": [
            "La tupla es: (1, 2, 3, 4, 5) y es de tipo <class 'tuple'>\n"
          ]
        }
      ]
    },
    {
      "cell_type": "markdown",
      "source": [
        "## Ejercicio 09 :\n",
        "Realiza la potencia de un número"
      ],
      "metadata": {
        "id": "m92l9lt2-8kE"
      }
    },
    {
      "cell_type": "code",
      "source": [
        "# La potencia de un número es la multiplicacion del mismo número \"n\" tantas veces\n",
        "# Definimos un número\n",
        "number = 5\n",
        "\n",
        "# Mostramos el resultado\n",
        "print(f\"El número al cuadrado es: {number * number}\")\n",
        "\n",
        "# También podemos usar de la librería math\n",
        "import math\n",
        "# El primero argumento es el número y el segundo argumento es la potencia\n",
        "print(f\"El número al cubo es: {math.pow(number, 3)}\")\n",
        "\n",
        "# También podemos hacer esto de una manera tradicional\n",
        "counter = 1\n",
        "pow_number = 1\n",
        "while counter < 6:\n",
        "  pow_number *= number\n",
        "  counter += 1\n",
        "\n",
        "# Mostramos el resultado\n",
        "print(f\"El número potenciado al 5 es: {pow_number}\")"
      ],
      "metadata": {
        "colab": {
          "base_uri": "https://localhost:8080/"
        },
        "id": "UG315SPK-wPR",
        "outputId": "ad677bc5-8cdd-4120-e0e4-0a214d5f4216"
      },
      "execution_count": 9,
      "outputs": [
        {
          "output_type": "stream",
          "name": "stdout",
          "text": [
            "El número al cuadrado es: 25\n",
            "El número al cubo es: 125.0\n",
            "El número potenciado al 5 es: 3125\n"
          ]
        }
      ]
    },
    {
      "cell_type": "markdown",
      "source": [
        "## Ejercicio 10 :\n",
        "Invertir una cadena de texto"
      ],
      "metadata": {
        "id": "Dh0A6YZzB3Wf"
      }
    },
    {
      "cell_type": "code",
      "source": [
        "# Definimos la cadena de texto a invertir\n",
        "name = \"Roger Omar Cabrera Silva\"\n",
        "\n",
        "# Una cadena de texto es un iterable y podemos invertirlo de una manera sencilla\n",
        "# Mostramos el resultado\n",
        "print(f\"La cadena invertida es: {name[::-1]}\")"
      ],
      "metadata": {
        "colab": {
          "base_uri": "https://localhost:8080/"
        },
        "id": "71qmg7opB78K",
        "outputId": "8ff1de1b-a6fb-4d8e-b8d9-da356fb391bc"
      },
      "execution_count": 10,
      "outputs": [
        {
          "output_type": "stream",
          "name": "stdout",
          "text": [
            "La cadena invertida es: avliS arerbaC ramO regoR\n"
          ]
        }
      ]
    },
    {
      "cell_type": "markdown",
      "source": [
        "## Ejercicio 11 :\n",
        "Calcula el área de un rectángulo en donde se pida el área y altura al usuario"
      ],
      "metadata": {
        "id": "0WtOdopGGUif"
      }
    },
    {
      "cell_type": "code",
      "source": [
        "# Definimos las variables\n",
        "base = int(input(\"Ingrese la base del rectángulo: \"))\n",
        "height = int(input(\"Ingrese la altura del rectángulo: \"))\n",
        "\n",
        "# Calculamos el área\n",
        "area = base * height\n",
        "\n",
        "# Mostramos el resultado\n",
        "print(f\"El área del rectángulo es: {area:.2f}\")"
      ],
      "metadata": {
        "colab": {
          "base_uri": "https://localhost:8080/"
        },
        "id": "LXHssVK5ITHT",
        "outputId": "6b734de6-761a-477b-ed43-8930467f4e85"
      },
      "execution_count": 11,
      "outputs": [
        {
          "output_type": "stream",
          "name": "stdout",
          "text": [
            "Ingrese la base del rectángulo: 96\n",
            "Ingrese la altura del rectángulo: 4\n",
            "El área del rectángulo es: 384.00\n"
          ]
        }
      ]
    },
    {
      "cell_type": "markdown",
      "source": [
        "## Ejercicio 12 :\n",
        "Convierte un número entero en cadena"
      ],
      "metadata": {
        "id": "5GWUjd0eLlR8"
      }
    },
    {
      "cell_type": "code",
      "source": [
        "# Definimos un número\n",
        "number = 17\n",
        "\n",
        "# Usamos el cast para transformar el número a string\n",
        "word = str(number)\n",
        "\n",
        "# Mostramos el resultado\n",
        "print(f\"El número a cadena es {word} y es de tipo {type(word)}\")"
      ],
      "metadata": {
        "colab": {
          "base_uri": "https://localhost:8080/"
        },
        "id": "yB8rtb66Lpqu",
        "outputId": "ec6ba704-a45e-479b-a31c-cac88cbddb6f"
      },
      "execution_count": 12,
      "outputs": [
        {
          "output_type": "stream",
          "name": "stdout",
          "text": [
            "El número a cadena es 17 y es de tipo <class 'str'>\n"
          ]
        }
      ]
    },
    {
      "cell_type": "markdown",
      "source": [
        "## Ejercicio 13 :\n",
        "Reemplaza un caracter en una cadena"
      ],
      "metadata": {
        "id": "y0RkVVyyMEls"
      }
    },
    {
      "cell_type": "code",
      "source": [
        "# Definimos nuestra cadena\n",
        "word = \"Hola\"\n",
        "\n",
        "# Para reemplazar uan cadena por otra, usamos replace()\n",
        "word_changed = word.replace(\"o\", \"A\")\n",
        "\n",
        "# Mostramos el resultado\n",
        "print(f\"Cambiamos de {word} a {word_changed}\")"
      ],
      "metadata": {
        "colab": {
          "base_uri": "https://localhost:8080/"
        },
        "id": "f_rKnlQ3L9Sb",
        "outputId": "f1554596-28ef-4f40-93f5-83152fcdfd93"
      },
      "execution_count": 13,
      "outputs": [
        {
          "output_type": "stream",
          "name": "stdout",
          "text": [
            "Cambiamos de Hola a HAla\n"
          ]
        }
      ]
    },
    {
      "cell_type": "markdown",
      "source": [
        "## Ejercicio 14 :\n",
        "Pasar una cadena de mayúsculas a minúsculas"
      ],
      "metadata": {
        "id": "YLgxwY-0Mrn2"
      }
    },
    {
      "cell_type": "code",
      "source": [
        "# Definimos nuestra cadena en mayusculas\n",
        "word_upper = \"ROGER OMAR CABRERA SILVA\"\n",
        "\n",
        "# Convertimos nuestra cadena a minúsculas con lower()\n",
        "word_lower = word_upper.lower()\n",
        "\n",
        "# Mostramos el resultado\n",
        "print(f\"Cadena Original en mayúsculas: {word_upper}\")\n",
        "print(f\"Cadena Original en minúsculas: {word_lower}\")"
      ],
      "metadata": {
        "colab": {
          "base_uri": "https://localhost:8080/"
        },
        "id": "fmH-XOpoMwb1",
        "outputId": "bfbe55b1-be28-47a7-8ace-da7688090225"
      },
      "execution_count": 14,
      "outputs": [
        {
          "output_type": "stream",
          "name": "stdout",
          "text": [
            "Cadena Original en mayúsculas: ROGER OMAR CABRERA SILVA\n",
            "Cadena Original en minúsculas: roger omar cabrera silva\n"
          ]
        }
      ]
    },
    {
      "cell_type": "markdown",
      "source": [
        "## Ejercicio 15 :\n",
        "Ordena una lista de números de menor a mayor"
      ],
      "metadata": {
        "id": "wq7p5rlLNMI8"
      }
    },
    {
      "cell_type": "code",
      "source": [
        "# Definimos nuestra lista de números\n",
        "array_numbers = [100,2,6,10,8,17,39,56]\n",
        "\n",
        "# Podemos ordenarlo con el método sort()\n",
        "array_numbers.sort()\n",
        "\n",
        "# Mostramos el resultado\n",
        "print(f\"La lista ordenada es: {array_numbers}\")"
      ],
      "metadata": {
        "colab": {
          "base_uri": "https://localhost:8080/"
        },
        "id": "KHsW9zR8NK_j",
        "outputId": "854ab854-261a-4b88-ab15-748994bf3461"
      },
      "execution_count": 15,
      "outputs": [
        {
          "output_type": "stream",
          "name": "stdout",
          "text": [
            "La lista ordenada es: [2, 6, 8, 10, 17, 39, 56, 100]\n"
          ]
        }
      ]
    }
  ]
}