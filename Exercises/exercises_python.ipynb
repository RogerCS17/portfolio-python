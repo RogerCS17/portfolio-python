{
  "nbformat": 4,
  "nbformat_minor": 0,
  "metadata": {
    "colab": {
      "provenance": [],
      "gpuType": "T4",
      "authorship_tag": "ABX9TyMKyl2sqhiF43UtVBy0uvCx",
      "include_colab_link": true
    },
    "kernelspec": {
      "name": "python3",
      "display_name": "Python 3"
    },
    "language_info": {
      "name": "python"
    },
    "accelerator": "GPU"
  },
  "cells": [
    {
      "cell_type": "markdown",
      "metadata": {
        "id": "view-in-github",
        "colab_type": "text"
      },
      "source": [
        "<a href=\"https://colab.research.google.com/github/RogerCS17/portfolio-python/blob/main/Exercises/exercises_python.ipynb\" target=\"_parent\"><img src=\"https://colab.research.google.com/assets/colab-badge.svg\" alt=\"Open In Colab\"/></a>"
      ]
    },
    {
      "cell_type": "markdown",
      "source": [
        "# Ejercicios de Lógica de Programacion en Python"
      ],
      "metadata": {
        "id": "pJwJ2BFPmoKE"
      }
    },
    {
      "cell_type": "markdown",
      "source": [
        "## Ejercicio 01:\n",
        "Sumar dos números y mostrar su resultado"
      ],
      "metadata": {
        "id": "BNf32vM5v062"
      }
    },
    {
      "cell_type": "code",
      "source": [
        "# Declaramos las variables\n",
        "number01 = 4\n",
        "number02 = 10\n",
        "\n",
        "# Variable que contendrá el resultado\n",
        "resultado = number01 + number02\n",
        "\n",
        "# Mostramos el resultado\n",
        "print(f\"La suma es: {resultado}\")"
      ],
      "metadata": {
        "colab": {
          "base_uri": "https://localhost:8080/"
        },
        "id": "dpY3qqljvrAL",
        "outputId": "f45f540c-2caf-4bc1-c955-0e738c40ac32"
      },
      "execution_count": 1,
      "outputs": [
        {
          "output_type": "stream",
          "name": "stdout",
          "text": [
            "La suma es: 14\n"
          ]
        }
      ]
    },
    {
      "cell_type": "markdown",
      "source": [
        "## Ejercicio 02:\n",
        "Calcular el área de un círculo con un radio dado"
      ],
      "metadata": {
        "id": "zdLk7hPywaVi"
      }
    },
    {
      "cell_type": "code",
      "source": [
        "# Importamos math para el valor constante de PI\n",
        "import math\n",
        "PI = math.pi\n",
        "\n",
        "# Definimos el radio\n",
        "radio = 5\n",
        "\n",
        "# Fórmula para hallar el área de un círculo\n",
        "area = PI * radio * radio\n",
        "\n",
        "# Mostramos el resultado\n",
        "print(f\"El valor del área es: {area}\")"
      ],
      "metadata": {
        "colab": {
          "base_uri": "https://localhost:8080/"
        },
        "id": "TT4SOyVywhq6",
        "outputId": "5e1351a8-97d7-4a52-ff87-d75431290f50"
      },
      "execution_count": 2,
      "outputs": [
        {
          "output_type": "stream",
          "name": "stdout",
          "text": [
            "El valor del área es: 78.53981633974483\n"
          ]
        }
      ]
    },
    {
      "cell_type": "markdown",
      "source": [
        "## Ejercicio 03:\n",
        "Concantena dos cadenas de texto"
      ],
      "metadata": {
        "id": "KOR1uVicxPBW"
      }
    },
    {
      "cell_type": "code",
      "source": [
        "# Definimos dos variables de texto\n",
        "word01 = \"Hello\"\n",
        "word02 = \"world\"\n",
        "\n",
        "# Concantenamos con join\n",
        "word = word01 + \" \" + word02\n",
        "\n",
        "# Mostramos el resultado\n",
        "print(f\"La palabra concatenada es: {word}\")"
      ],
      "metadata": {
        "colab": {
          "base_uri": "https://localhost:8080/"
        },
        "id": "iQ0enn9Uw-nO",
        "outputId": "15bd8307-0a2f-4e53-a38b-afd0a6fb8efa"
      },
      "execution_count": 3,
      "outputs": [
        {
          "output_type": "stream",
          "name": "stdout",
          "text": [
            "La palabra concatenada es: Hello world\n"
          ]
        }
      ]
    },
    {
      "cell_type": "markdown",
      "source": [
        "## Ejercicio 04:\n",
        "Crear una lista con diferentes elementos e imprimirla"
      ],
      "metadata": {
        "id": "P1By8x0eyF2h"
      }
    },
    {
      "cell_type": "code",
      "source": [
        "# Definimos nuestra lista de nombres\n",
        "array = {\"Roger\", \"Omar\", \"Cabrera\", \"Silva\"}\n",
        "\n",
        "# Mostramos cada elemento de la lista\n",
        "for element in array:\n",
        "  print(element)\n",
        "\n",
        "# Mostramos el resultado\n",
        "print(array)"
      ],
      "metadata": {
        "colab": {
          "base_uri": "https://localhost:8080/"
        },
        "id": "oL84FTE_x6Ij",
        "outputId": "d8c14a84-56a6-41ee-9e43-91fd444df371"
      },
      "execution_count": 4,
      "outputs": [
        {
          "output_type": "stream",
          "name": "stdout",
          "text": [
            "Omar\n",
            "Cabrera\n",
            "Roger\n",
            "Silva\n",
            "{'Omar', 'Cabrera', 'Roger', 'Silva'}\n"
          ]
        }
      ]
    },
    {
      "cell_type": "markdown",
      "source": [
        "## Ejercicio 05:\n",
        "Por consola, realiza una multiplicación de dos números y muestra el resultado"
      ],
      "metadata": {
        "id": "q7xGQOKDysPp"
      }
    },
    {
      "cell_type": "code",
      "source": [
        "# Importamos la librería\n",
        "import random as rnd\n",
        "\n",
        "# Variables a multiplicar\n",
        "number01 = rnd.randint(1,10)\n",
        "number02 = rnd.randint(1,10)\n",
        "\n",
        "# Resultado\n",
        "result = number01 * number02\n",
        "\n",
        "# Mostramos el resultado\n",
        "print(f\"El resultado de la multiplicación de {number01} y {number02} es: {result}\")"
      ],
      "metadata": {
        "colab": {
          "base_uri": "https://localhost:8080/"
        },
        "id": "-Y67X1Jgyh1e",
        "outputId": "fb1be415-e75d-4b97-acbd-1e5d1353fd54"
      },
      "execution_count": 5,
      "outputs": [
        {
          "output_type": "stream",
          "name": "stdout",
          "text": [
            "El resultado de la multiplicación de 7 y 7 es: 49\n"
          ]
        }
      ]
    },
    {
      "cell_type": "markdown",
      "source": [
        "## Ejercicio 06:\n",
        "Crea una cadena de texto y muestra su longitud"
      ],
      "metadata": {
        "id": "DpxRgFZB6rgh"
      }
    },
    {
      "cell_type": "code",
      "source": [
        "# Variable de cadena de texto\n",
        "word = \"Roger\"\n",
        "\n",
        "# Con la función len, podemos hallar su longitud\n",
        "print(f\"La longitud de la cadena de texto es: {len(word)}\")\n",
        "\n",
        "# Podemos contar también iterando sobre la cadena\n",
        "# Contador\n",
        "counter = 0\n",
        "for char in word:\n",
        "  counter +=1\n",
        "\n",
        "# Mostramos el resultado\n",
        "print(f\"La longitud de la cadena de texto es: {counter}\")"
      ],
      "metadata": {
        "colab": {
          "base_uri": "https://localhost:8080/"
        },
        "id": "jdiVQ3FjzQ11",
        "outputId": "044ef151-731d-4da7-a8fc-ea22861010b7"
      },
      "execution_count": 6,
      "outputs": [
        {
          "output_type": "stream",
          "name": "stdout",
          "text": [
            "La longitud de la cadena de texto es: 5\n",
            "La longitud de la cadena de texto es: 5\n"
          ]
        }
      ]
    },
    {
      "cell_type": "markdown",
      "source": [
        "## Ejercicio 07:\n",
        "Calcula el promedio de una lista de números"
      ],
      "metadata": {
        "id": "q3bjrfKM7oYn"
      }
    },
    {
      "cell_type": "code",
      "source": [
        "# Definimos la lista con nuestros números\n",
        "array_numbers = [10,20,30,40,50]\n",
        "\n",
        "# Podemos usar de las funciones sum y len para resolver el ejercicio\n",
        "average_array_numbers = sum(array_numbers) / len(array_numbers)\n",
        "\n",
        "# Mostramos el resultado\n",
        "print(f\"El promedio de los números de la lista es: {average_array_numbers}\")\n",
        "\n",
        "# También se puede resolver de una manera más tradicional\n",
        "sum_numbers = 0\n",
        "total_numbers = 0\n",
        "for number in array_numbers:\n",
        "  sum_numbers += number\n",
        "  total_numbers += 1\n",
        "average_numbers = sum_numbers / total_numbers\n",
        "\n",
        "# Mostramos el resultado\n",
        "print(f\"El promedio de los números de la lista es: {average_numbers}\")"
      ],
      "metadata": {
        "colab": {
          "base_uri": "https://localhost:8080/"
        },
        "id": "gDWr2lVt72eY",
        "outputId": "2ee03664-f522-4edd-d19b-b74896bae53c"
      },
      "execution_count": 7,
      "outputs": [
        {
          "output_type": "stream",
          "name": "stdout",
          "text": [
            "El promedio de los números de la lista es: 30.0\n",
            "El promedio de los números de la lista es: 30.0\n"
          ]
        }
      ]
    },
    {
      "cell_type": "markdown",
      "source": [
        "## Ejercicio 08:\n",
        "Crea una tupla de números e imprímela"
      ],
      "metadata": {
        "id": "gix_2y5W95Xg"
      }
    },
    {
      "cell_type": "code",
      "source": [
        "# Una tupla es una colección inmutable, es decir, no se puede modificar\n",
        "# una vez ya se ha creado\n",
        "\n",
        "# Creamos la tupla\n",
        "array_tuple = (1,2,3,4,5)\n",
        "\n",
        "# Mostramos el resultado\n",
        "print(f\"La tupla es: {array_tuple} y es de tipo {type(array_tuple)}\")"
      ],
      "metadata": {
        "colab": {
          "base_uri": "https://localhost:8080/"
        },
        "id": "l_WHwLgS94uV",
        "outputId": "691af420-37cd-47d0-83a9-91827f7579e2"
      },
      "execution_count": 8,
      "outputs": [
        {
          "output_type": "stream",
          "name": "stdout",
          "text": [
            "La tupla es: (1, 2, 3, 4, 5) y es de tipo <class 'tuple'>\n"
          ]
        }
      ]
    },
    {
      "cell_type": "markdown",
      "source": [
        "## Ejercicio 09:\n",
        "Realiza la potencia de un número"
      ],
      "metadata": {
        "id": "m92l9lt2-8kE"
      }
    },
    {
      "cell_type": "code",
      "source": [
        "# La potencia de un número es la multiplicacion del mismo número \"n\" tantas veces\n",
        "# Definimos un número\n",
        "number = 5\n",
        "\n",
        "# Mostramos el resultado\n",
        "print(f\"El número al cuadrado es: {number * number}\")\n",
        "\n",
        "# También podemos usar de la librería math\n",
        "import math\n",
        "# El primero argumento es el número y el segundo argumento es la potencia\n",
        "print(f\"El número al cubo es: {math.pow(number, 3)}\")\n",
        "\n",
        "# También podemos hacer esto de una manera tradicional\n",
        "counter = 1\n",
        "pow_number = 1\n",
        "while counter < 6:\n",
        "  pow_number *= number\n",
        "  counter += 1\n",
        "\n",
        "# Mostramos el resultado\n",
        "print(f\"El número potenciado al 5 es: {pow_number}\")"
      ],
      "metadata": {
        "colab": {
          "base_uri": "https://localhost:8080/"
        },
        "id": "UG315SPK-wPR",
        "outputId": "fc6e04f7-7782-44d7-a402-16670cf24bd9"
      },
      "execution_count": 9,
      "outputs": [
        {
          "output_type": "stream",
          "name": "stdout",
          "text": [
            "El número al cuadrado es: 25\n",
            "El número al cubo es: 125.0\n",
            "El número potenciado al 5 es: 3125\n"
          ]
        }
      ]
    },
    {
      "cell_type": "markdown",
      "source": [
        "## Ejercicio 10:\n",
        "Invertir una cadena de texto"
      ],
      "metadata": {
        "id": "Dh0A6YZzB3Wf"
      }
    },
    {
      "cell_type": "code",
      "source": [
        "# Definimos la cadena de texto a invertir\n",
        "name = \"Roger Omar Cabrera Silva\"\n",
        "\n",
        "# Una cadena de texto es un iterable y podemos invertirlo de una manera sencilla\n",
        "# Mostramos el resultado\n",
        "print(f\"La cadena invertida es: {name[::-1]}\")"
      ],
      "metadata": {
        "colab": {
          "base_uri": "https://localhost:8080/"
        },
        "id": "71qmg7opB78K",
        "outputId": "37a0421e-f110-47a4-8a68-74863f0d1bf2"
      },
      "execution_count": 10,
      "outputs": [
        {
          "output_type": "stream",
          "name": "stdout",
          "text": [
            "La cadena invertida es: avliS arerbaC ramO regoR\n"
          ]
        }
      ]
    },
    {
      "cell_type": "markdown",
      "source": [
        "## Ejercicio 11:\n",
        "Calcula el área de un rectángulo en donde se pida el área y altura al usuario"
      ],
      "metadata": {
        "id": "0WtOdopGGUif"
      }
    },
    {
      "cell_type": "code",
      "source": [
        "# Importamos la librería\n",
        "import random as rnd\n",
        "\n",
        "# Definimos las variables\n",
        "base = rnd.randint(1,10)\n",
        "height = rnd.randint(1,10)\n",
        "\n",
        "# Calculamos el área\n",
        "area = base * height\n",
        "\n",
        "# Mostramos el resultado\n",
        "print(f\"Base: {base}, Altura: {height} y el área del rectángulo es: {area:.2f}\")"
      ],
      "metadata": {
        "colab": {
          "base_uri": "https://localhost:8080/"
        },
        "id": "LXHssVK5ITHT",
        "outputId": "e7b4d907-89c4-4f51-f5ec-20e39351e506"
      },
      "execution_count": 11,
      "outputs": [
        {
          "output_type": "stream",
          "name": "stdout",
          "text": [
            "Base: 2, Altura: 2 y el área del rectángulo es: 4.00\n"
          ]
        }
      ]
    },
    {
      "cell_type": "markdown",
      "source": [
        "## Ejercicio 12:\n",
        "Convierte un número entero en cadena"
      ],
      "metadata": {
        "id": "5GWUjd0eLlR8"
      }
    },
    {
      "cell_type": "code",
      "source": [
        "# Definimos un número\n",
        "number = 17\n",
        "\n",
        "# Usamos el cast para transformar el número a string\n",
        "word = str(number)\n",
        "\n",
        "# Mostramos el resultado\n",
        "print(f\"El número a cadena es {word} y es de tipo {type(word)}\")"
      ],
      "metadata": {
        "colab": {
          "base_uri": "https://localhost:8080/"
        },
        "id": "yB8rtb66Lpqu",
        "outputId": "a2806d73-e1e6-4be3-cb8b-a773092c38f2"
      },
      "execution_count": 12,
      "outputs": [
        {
          "output_type": "stream",
          "name": "stdout",
          "text": [
            "El número a cadena es 17 y es de tipo <class 'str'>\n"
          ]
        }
      ]
    },
    {
      "cell_type": "markdown",
      "source": [
        "## Ejercicio 13:\n",
        "Reemplaza un caracter en una cadena"
      ],
      "metadata": {
        "id": "y0RkVVyyMEls"
      }
    },
    {
      "cell_type": "code",
      "source": [
        "# Definimos nuestra cadena\n",
        "word = \"Hola\"\n",
        "\n",
        "# Para reemplazar uan cadena por otra, usamos replace()\n",
        "word_changed = word.replace(\"o\", \"A\")\n",
        "\n",
        "# Mostramos el resultado\n",
        "print(f\"Cambiamos de {word} a {word_changed}\")"
      ],
      "metadata": {
        "colab": {
          "base_uri": "https://localhost:8080/"
        },
        "id": "f_rKnlQ3L9Sb",
        "outputId": "bcba9f3f-b752-4684-ab9f-f2f93c2631f2"
      },
      "execution_count": 13,
      "outputs": [
        {
          "output_type": "stream",
          "name": "stdout",
          "text": [
            "Cambiamos de Hola a HAla\n"
          ]
        }
      ]
    },
    {
      "cell_type": "markdown",
      "source": [
        "## Ejercicio 14:\n",
        "Pasar una cadena de mayúsculas a minúsculas"
      ],
      "metadata": {
        "id": "YLgxwY-0Mrn2"
      }
    },
    {
      "cell_type": "code",
      "source": [
        "# Definimos nuestra cadena en mayusculas\n",
        "word_upper = \"ROGER OMAR CABRERA SILVA\"\n",
        "\n",
        "# Convertimos nuestra cadena a minúsculas con lower()\n",
        "word_lower = word_upper.lower()\n",
        "\n",
        "# Mostramos el resultado\n",
        "print(f\"Cadena Original en mayúsculas: {word_upper}\")\n",
        "print(f\"Cadena Original en minúsculas: {word_lower}\")"
      ],
      "metadata": {
        "colab": {
          "base_uri": "https://localhost:8080/"
        },
        "id": "fmH-XOpoMwb1",
        "outputId": "a8a1c0b9-3b3e-41a1-e76d-3006bcda5a97"
      },
      "execution_count": 14,
      "outputs": [
        {
          "output_type": "stream",
          "name": "stdout",
          "text": [
            "Cadena Original en mayúsculas: ROGER OMAR CABRERA SILVA\n",
            "Cadena Original en minúsculas: roger omar cabrera silva\n"
          ]
        }
      ]
    },
    {
      "cell_type": "markdown",
      "source": [
        "## Ejercicio 15:\n",
        "Ordena una lista de números de menor a mayor"
      ],
      "metadata": {
        "id": "wq7p5rlLNMI8"
      }
    },
    {
      "cell_type": "code",
      "source": [
        "# Definimos nuestra lista de números\n",
        "array_numbers = [100,2,6,10,8,17,39,56]\n",
        "\n",
        "# Podemos ordenarlo con el método sort()\n",
        "array_numbers.sort()\n",
        "\n",
        "# Mostramos el resultado\n",
        "print(f\"La lista ordenada es: {array_numbers}\")"
      ],
      "metadata": {
        "colab": {
          "base_uri": "https://localhost:8080/"
        },
        "id": "KHsW9zR8NK_j",
        "outputId": "ec2899a7-4476-4f0d-a162-2548021d6c1d"
      },
      "execution_count": 15,
      "outputs": [
        {
          "output_type": "stream",
          "name": "stdout",
          "text": [
            "La lista ordenada es: [2, 6, 8, 10, 17, 39, 56, 100]\n"
          ]
        }
      ]
    },
    {
      "cell_type": "markdown",
      "source": [
        "## Ejercicio 16:\n",
        "Calcula 2 elevado a la 4° potencia sin utilizar el operador **"
      ],
      "metadata": {
        "id": "Gw6CGSIpoc04"
      }
    },
    {
      "cell_type": "code",
      "source": [
        "# Definimos las variables\n",
        "number = 2\n",
        "pow = 4\n",
        "\n",
        "# Bucle while para hallar la potencia\n",
        "counter = 1\n",
        "result = 1\n",
        "while counter < pow + 1:\n",
        "  result *= number\n",
        "  counter += 1\n",
        "\n",
        "# Mostramos el resultado\n",
        "print(f\"El número {number} elevado a la {pow} potencia es: {result}\")"
      ],
      "metadata": {
        "colab": {
          "base_uri": "https://localhost:8080/"
        },
        "id": "XjgTP0rpU_Kk",
        "outputId": "0092d0cc-abfa-4cf9-90ed-215cf984d0eb"
      },
      "execution_count": 16,
      "outputs": [
        {
          "output_type": "stream",
          "name": "stdout",
          "text": [
            "El número 2 elevado a la 4 potencia es: 16\n"
          ]
        }
      ]
    },
    {
      "cell_type": "markdown",
      "source": [
        "## Ejercicio 17:\n",
        "Extrae una subcadena de una cadena dada"
      ],
      "metadata": {
        "id": "j_eS1EurokgX"
      }
    },
    {
      "cell_type": "code",
      "source": [
        "# Definimos nuestra cadena de texto\n",
        "word = \"Hay golpes en la vida, yo no sé\"\n",
        "searched_word = \"golpes\"\n",
        "\n",
        "# Separamos la cadena en subcadenas\n",
        "array_word = word.split(\" \")\n",
        "\n",
        "# Verificamos si la subcadena se encuentra\n",
        "if searched_word in array_word:\n",
        "  # Mostramos el resultado\n",
        "  print(f\"La subcadena extraída es: {searched_word}\")\n",
        "else:\n",
        "  # Mostramos el resultado\n",
        "  print(f\"No se encontró la subcadena: {searched_word}\")"
      ],
      "metadata": {
        "colab": {
          "base_uri": "https://localhost:8080/"
        },
        "id": "_OrONXShV5yk",
        "outputId": "bef3fd85-b7e8-4210-f844-944d56f6ae93"
      },
      "execution_count": 17,
      "outputs": [
        {
          "output_type": "stream",
          "name": "stdout",
          "text": [
            "La subcadena extraída es: golpes\n"
          ]
        }
      ]
    },
    {
      "cell_type": "markdown",
      "source": [
        "## Ejercicio 18:\n",
        "Convierte un número decimal a un número entero"
      ],
      "metadata": {
        "id": "ukVzEyuuorX2"
      }
    },
    {
      "cell_type": "code",
      "source": [
        "# Definimos la variable decimal\n",
        "decimal_number = 10.6\n",
        "\n",
        "# Convertimos a entero con la función round()\n",
        "print(f\"El número decimal {decimal_number} a entero es: {round(decimal_number)}\")"
      ],
      "metadata": {
        "colab": {
          "base_uri": "https://localhost:8080/"
        },
        "id": "hQNumH1nYUmN",
        "outputId": "c50ffbb9-d73a-42d4-c5a3-01d4a9339bbe"
      },
      "execution_count": 18,
      "outputs": [
        {
          "output_type": "stream",
          "name": "stdout",
          "text": [
            "El número decimal 10.6 a entero es: 11\n"
          ]
        }
      ]
    },
    {
      "cell_type": "markdown",
      "source": [
        "## Ejercicio 19:\n",
        "Cuenta las ocurrencias de un carácter específico en una cadena:"
      ],
      "metadata": {
        "id": "pWRYB-8eow9g"
      }
    },
    {
      "cell_type": "code",
      "source": [
        "# Definimos la cadena de texto\n",
        "word = \"Pienso, luego existo\"\n",
        "char = \"o\"\n",
        "\n",
        "# Con el método count podemos hallar las ocurrencias del carácter\n",
        "print(f\"El carácter '{char}' en la cadena '{word}' esta presente: {word.count(char)} veces\")"
      ],
      "metadata": {
        "colab": {
          "base_uri": "https://localhost:8080/"
        },
        "id": "r4mzNT52ZiZH",
        "outputId": "5d887da0-c23a-4d8c-f9a6-be460f92a627"
      },
      "execution_count": 19,
      "outputs": [
        {
          "output_type": "stream",
          "name": "stdout",
          "text": [
            "El carácter 'o' en la cadena 'Pienso, luego existo' esta presente: 3 veces\n"
          ]
        }
      ]
    },
    {
      "cell_type": "markdown",
      "source": [
        "## Ejercicio 20:\n",
        "Encuentra y muestra el último carácter de una cadena"
      ],
      "metadata": {
        "id": "uubr3WXno3Um"
      }
    },
    {
      "cell_type": "code",
      "source": [
        "# Definimos la cadena de texto\n",
        "word = \"No hay mejor bien en un hombre, que su propia voluntad\"\n",
        "\n",
        "# Con la indexación podemos hallar el último caracter\n",
        "print(f\"El último carácter de la cadena: '{word}' es: '{word[-1]}'\")"
      ],
      "metadata": {
        "colab": {
          "base_uri": "https://localhost:8080/"
        },
        "id": "pBVB4wGQaHZm",
        "outputId": "19161142-2123-406a-a88c-e01e32420fff"
      },
      "execution_count": 20,
      "outputs": [
        {
          "output_type": "stream",
          "name": "stdout",
          "text": [
            "El último carácter de la cadena: 'No hay mejor bien en un hombre, que su propia voluntad' es: 'd'\n"
          ]
        }
      ]
    },
    {
      "cell_type": "markdown",
      "source": [
        "## Ejercicio 21 :\n",
        "Multiplica una cadena por un número entero"
      ],
      "metadata": {
        "id": "2KCEp0ZfpLr2"
      }
    },
    {
      "cell_type": "code",
      "source": [
        "# Definimos nuestra cadena\n",
        "word = \"Hola mundo\"\n",
        "\n",
        "# Mostramos el resultado\n",
        "print(f\"{word * 3}\")"
      ],
      "metadata": {
        "colab": {
          "base_uri": "https://localhost:8080/"
        },
        "id": "oNs5l3id1pFo",
        "outputId": "a3fba9c0-ab51-4b08-92e6-49da9acd481e"
      },
      "execution_count": 21,
      "outputs": [
        {
          "output_type": "stream",
          "name": "stdout",
          "text": [
            "Hola mundoHola mundoHola mundo\n"
          ]
        }
      ]
    },
    {
      "cell_type": "markdown",
      "source": [
        "## Ejercicio 22 :\n",
        "Divide una cadena en una lista de subcadenas"
      ],
      "metadata": {
        "id": "RK0PgWkSpPsT"
      }
    },
    {
      "cell_type": "code",
      "source": [
        "# Definimos la cadena\n",
        "name = \"Roger Omar Cabrera Silva\"\n",
        "\n",
        "# Con el método split() podemos dividir la cadena en subcadenas\n",
        "# Mostramos el resultado\n",
        "print(f\"{name.split(' ')}\")"
      ],
      "metadata": {
        "colab": {
          "base_uri": "https://localhost:8080/"
        },
        "id": "01yAO2uI17gh",
        "outputId": "b42b4285-f031-485d-f4f6-c5f014ac98e4"
      },
      "execution_count": 22,
      "outputs": [
        {
          "output_type": "stream",
          "name": "stdout",
          "text": [
            "['Roger', 'Omar', 'Cabrera', 'Silva']\n"
          ]
        }
      ]
    },
    {
      "cell_type": "markdown",
      "source": [
        "## Ejercicio 23 :\n",
        "Verifica si una palabra es un palíndromo"
      ],
      "metadata": {
        "id": "Vkb8GcIcpVAq"
      }
    },
    {
      "cell_type": "code",
      "source": [
        "# Definimos una variable con un palíndromo\n",
        "words = [\"reconocer\", \"rosa\"]\n",
        "\n",
        "# Lógica para saber si es un palíndromo\n",
        "for word in words:\n",
        "  if word == word[::-1]:\n",
        "    # Mostramos el resultado\n",
        "    print(f\"La palabra {word} es palindromo\")\n",
        "  else:\n",
        "    # Mostramos el resultado\n",
        "    print(f\"La palabra {word} no es palindromo\")"
      ],
      "metadata": {
        "colab": {
          "base_uri": "https://localhost:8080/"
        },
        "id": "L12t-_ex2aVX",
        "outputId": "70f92418-16fc-4f5e-936c-a1540fa536ad"
      },
      "execution_count": 23,
      "outputs": [
        {
          "output_type": "stream",
          "name": "stdout",
          "text": [
            "La palabra reconocer es palindromo\n",
            "La palabra rosa no es palindromo\n"
          ]
        }
      ]
    },
    {
      "cell_type": "markdown",
      "source": [
        "## Ejercicio 24 :\n",
        "Elimina un elemento específico de una lista"
      ],
      "metadata": {
        "id": "3aGw7fBcpbuG"
      }
    },
    {
      "cell_type": "code",
      "source": [
        "# Definimos nuestra lista\n",
        "array_numbers = [1,2,3,4,5]\n",
        "\n",
        "# Visualizamos la lista original\n",
        "print(f\"Lista original: {array_numbers}\")\n",
        "\n",
        "# Con el método remove() podemos eliminar un elemento de la lista\n",
        "array_numbers.remove(3)\n",
        "\n",
        "# Mostramos el resultado\n",
        "print(f\"Lista modificada: {array_numbers}\")"
      ],
      "metadata": {
        "colab": {
          "base_uri": "https://localhost:8080/"
        },
        "id": "6xCTTBuP3Sf2",
        "outputId": "bbfdf1a5-417d-466e-cb5e-61c8a58b2dab"
      },
      "execution_count": 24,
      "outputs": [
        {
          "output_type": "stream",
          "name": "stdout",
          "text": [
            "Lista original: [1, 2, 3, 4, 5]\n",
            "Lista modificada: [1, 2, 4, 5]\n"
          ]
        }
      ]
    },
    {
      "cell_type": "markdown",
      "source": [
        "## Ejercicio 25 :\n",
        "Genera una lista de números de 1 al 100"
      ],
      "metadata": {
        "id": "H47lig0Npg1Y"
      }
    },
    {
      "cell_type": "code",
      "source": [
        "# Creamos una lista vacía\n",
        "list_empty = []\n",
        "\n",
        "# Con un ciclo for podemos crear la lista\n",
        "for number in range(1,101):\n",
        "  list_empty.append(number)\n",
        "\n",
        "# Mostramos el resultado\n",
        "print(f\"{list_empty}\")\n",
        "\n",
        "# También podemos hacerlo con comprensión de listas\n",
        "comprehension_list_empty = [x for x in range(1,101)]\n",
        "\n",
        "# Mostramos el resultado\n",
        "print(f\"{comprehension_list_empty}\")\n",
        "\n",
        "# También otra manera es casteando el range() a una lista\n",
        "list_range = list(range(1,101))\n",
        "print(f\"{list_range}\")"
      ],
      "metadata": {
        "colab": {
          "base_uri": "https://localhost:8080/"
        },
        "id": "A0mj_n0O4p7q",
        "outputId": "64b38246-feac-4402-9c7f-ba8a721ef245"
      },
      "execution_count": 25,
      "outputs": [
        {
          "output_type": "stream",
          "name": "stdout",
          "text": [
            "[1, 2, 3, 4, 5, 6, 7, 8, 9, 10, 11, 12, 13, 14, 15, 16, 17, 18, 19, 20, 21, 22, 23, 24, 25, 26, 27, 28, 29, 30, 31, 32, 33, 34, 35, 36, 37, 38, 39, 40, 41, 42, 43, 44, 45, 46, 47, 48, 49, 50, 51, 52, 53, 54, 55, 56, 57, 58, 59, 60, 61, 62, 63, 64, 65, 66, 67, 68, 69, 70, 71, 72, 73, 74, 75, 76, 77, 78, 79, 80, 81, 82, 83, 84, 85, 86, 87, 88, 89, 90, 91, 92, 93, 94, 95, 96, 97, 98, 99, 100]\n",
            "[1, 2, 3, 4, 5, 6, 7, 8, 9, 10, 11, 12, 13, 14, 15, 16, 17, 18, 19, 20, 21, 22, 23, 24, 25, 26, 27, 28, 29, 30, 31, 32, 33, 34, 35, 36, 37, 38, 39, 40, 41, 42, 43, 44, 45, 46, 47, 48, 49, 50, 51, 52, 53, 54, 55, 56, 57, 58, 59, 60, 61, 62, 63, 64, 65, 66, 67, 68, 69, 70, 71, 72, 73, 74, 75, 76, 77, 78, 79, 80, 81, 82, 83, 84, 85, 86, 87, 88, 89, 90, 91, 92, 93, 94, 95, 96, 97, 98, 99, 100]\n",
            "[1, 2, 3, 4, 5, 6, 7, 8, 9, 10, 11, 12, 13, 14, 15, 16, 17, 18, 19, 20, 21, 22, 23, 24, 25, 26, 27, 28, 29, 30, 31, 32, 33, 34, 35, 36, 37, 38, 39, 40, 41, 42, 43, 44, 45, 46, 47, 48, 49, 50, 51, 52, 53, 54, 55, 56, 57, 58, 59, 60, 61, 62, 63, 64, 65, 66, 67, 68, 69, 70, 71, 72, 73, 74, 75, 76, 77, 78, 79, 80, 81, 82, 83, 84, 85, 86, 87, 88, 89, 90, 91, 92, 93, 94, 95, 96, 97, 98, 99, 100]\n"
          ]
        }
      ]
    },
    {
      "cell_type": "markdown",
      "source": [
        "## Ejercicio 26 :\n",
        "Intercambia los valores de dos variables con asignación múltiple"
      ],
      "metadata": {
        "id": "P4G0WZXrpknr"
      }
    },
    {
      "cell_type": "markdown",
      "source": [
        "## Ejercicio 27 :\n",
        "Realiza operaciones básicas con conjuntos unión e intersección"
      ],
      "metadata": {
        "id": "98BYEuVPpr0z"
      }
    },
    {
      "cell_type": "markdown",
      "source": [
        "## Ejercicio 28 :\n",
        "Extrae un elemento específico de una tupla"
      ],
      "metadata": {
        "id": "XLjC9soApwcC"
      }
    },
    {
      "cell_type": "markdown",
      "source": [
        "## Ejercicio 29 :\n",
        "Combina dos listas en pares usando la función zip()"
      ],
      "metadata": {
        "id": "vZUIfR8Rp01Y"
      }
    },
    {
      "cell_type": "markdown",
      "source": [
        "## Ejercicio 30 :\n",
        "Elimina duplicados de una lista"
      ],
      "metadata": {
        "id": "deZm0DYap-ln"
      }
    },
    {
      "cell_type": "markdown",
      "source": [
        "## Ejercicio 31 :\n",
        "Pide un número y verifica si es positivo, negativo o cero"
      ],
      "metadata": {
        "id": "hFhvOWB-qEeu"
      }
    },
    {
      "cell_type": "markdown",
      "source": [
        "## Ejercicio 32 :\n",
        "Pide un número y comprueba si el número es par o impar utilizado if y módulo"
      ],
      "metadata": {
        "id": "rvEGcRm2qIPo"
      }
    },
    {
      "cell_type": "markdown",
      "source": [
        "## Ejercicio 33 :\n",
        "Determina si un año es bisiesto\n",
        "Regla de negocio\n",
        "- Divisible por 4\n",
        "- No divisible por 100\n",
        "- Divisible por 400"
      ],
      "metadata": {
        "id": "qg6WzTv9qVdY"
      }
    },
    {
      "cell_type": "markdown",
      "source": [
        "## Ejercicio 34 :\n",
        "Verifica si una cadena es mayor o igual a 10 caracteres"
      ],
      "metadata": {
        "id": "KwOM1hSVqd9U"
      }
    },
    {
      "cell_type": "markdown",
      "source": [
        "## Ejercicio 35 :\n",
        "Comprueba si un número está en el rango de 1 al 100"
      ],
      "metadata": {
        "id": "S52UkhiMqjpq"
      }
    },
    {
      "cell_type": "markdown",
      "source": [
        "## Ejercicio 36 :\n",
        "Pide un carácter y edetermina si es una vocal"
      ],
      "metadata": {
        "id": "hkIk17j_qpBR"
      }
    },
    {
      "cell_type": "markdown",
      "source": [
        "## Ejercicio 37 :\n",
        "Calcula el máximo de tres números"
      ],
      "metadata": {
        "id": "nfvtRE4uqti2"
      }
    },
    {
      "cell_type": "markdown",
      "source": [
        "## Ejercicio 38 :\n",
        "Determina si un número es divisible entre 5 y 7"
      ],
      "metadata": {
        "id": "M4HCHZjOrBES"
      }
    },
    {
      "cell_type": "markdown",
      "source": [
        "## Ejercicio 39 :\n",
        "Verifica si la palabra ingresada es python"
      ],
      "metadata": {
        "id": "pMwZdVKrrFZH"
      }
    },
    {
      "cell_type": "markdown",
      "source": [
        "## Ejercicio 40 :\n",
        "Calcula el IMC e interpretarlo"
      ],
      "metadata": {
        "id": "ox5Aq3WIrJFM"
      }
    },
    {
      "cell_type": "markdown",
      "source": [
        "## Ejercicio 41 :\n",
        "Ingrese los número del 10 al 1 en orden descendente"
      ],
      "metadata": {
        "id": "EVF5MgzurYw0"
      }
    },
    {
      "cell_type": "markdown",
      "source": [
        "## Ejercicio 42 :\n",
        "Solicita al usuario ingresar un número N y luego imprime la suma de todos los números desde 1 hasta N"
      ],
      "metadata": {
        "id": "NYPEPhd9uhNX"
      }
    },
    {
      "cell_type": "markdown",
      "source": [
        "## Ejercicio 43 :\n",
        "Solicita al usuario ingresar un número e imprime el factorial de ese número"
      ],
      "metadata": {
        "id": "yGWrlu8nusVC"
      }
    },
    {
      "cell_type": "markdown",
      "source": [
        "## Ejercicio 44 :\n",
        "Genera un número aleatorio entre 1 y 10. Luego, pide al usuario al adiviar el número hasta que lo haga correctamente"
      ],
      "metadata": {
        "id": "PIxoTrsRvHcu"
      }
    },
    {
      "cell_type": "markdown",
      "source": [
        "## Ejercicio 45 :\n",
        "Imprime la tabla de multiplicar de un número ingresado por el usuario"
      ],
      "metadata": {
        "id": "t3dihZuSvPf3"
      }
    },
    {
      "cell_type": "markdown",
      "source": [
        "## Ejercicio 46 :\n",
        "Solicita al usuario ingresar un número y cuenta cuántos dígitos tiene"
      ],
      "metadata": {
        "id": "gMR7MYPGva66"
      }
    },
    {
      "cell_type": "markdown",
      "source": [
        "## Ejercicio 47 :\n",
        "Hacer un menú de opciones que invluye la opción de salir del programa"
      ],
      "metadata": {
        "id": "AqShzFnkvgqc"
      }
    },
    {
      "cell_type": "markdown",
      "source": [
        "## Ejercicio 48 :\n",
        "Simular un lanzamiento de una moneda"
      ],
      "metadata": {
        "id": "Q8I1_wXzvmMy"
      }
    },
    {
      "cell_type": "markdown",
      "source": [
        "## Ejercicio 49 :\n",
        "Simular un lanzamiento de dado hasta obtener un 6"
      ],
      "metadata": {
        "id": "L4GarfuNvtdb"
      }
    },
    {
      "cell_type": "markdown",
      "source": [
        "## Ejercicio 50 :\n",
        "Mostrar los números del 1 al 100, pero reemplazando los múltiplos de 3 por \"Fizz\" y los múltiplos de 5 por \"Buzz\""
      ],
      "metadata": {
        "id": "5jnLUYA_vxIF"
      }
    },
    {
      "cell_type": "markdown",
      "source": [
        "## Ejercicio 51 :\n",
        "Imprimir los números del 1 al 5 con for"
      ],
      "metadata": {
        "id": "H9cBk3PtwEM6"
      }
    },
    {
      "cell_type": "markdown",
      "source": [
        "## Ejercicio 52 :\n",
        "Sumar los números del 1 al 10 con for"
      ],
      "metadata": {
        "id": "G-OkbqcCwJhI"
      }
    },
    {
      "cell_type": "markdown",
      "source": [
        "## Ejercicio 53 :\n",
        "Imprimir los elementos de una lista dada"
      ],
      "metadata": {
        "id": "bELWreOFwPdP"
      }
    },
    {
      "cell_type": "markdown",
      "source": [
        "## Ejercicio 54 :\n",
        "Imprimir los carácteres de una cadena utilizando el ciclo for"
      ],
      "metadata": {
        "id": "Hu0TVG9LwUGl"
      }
    },
    {
      "cell_type": "markdown",
      "source": [
        "## Ejercicio 55 :\n",
        "Imprimir los números pares del 2 al 10 con ciclo for"
      ],
      "metadata": {
        "id": "rLepZStmwYaj"
      }
    },
    {
      "cell_type": "markdown",
      "source": [
        "## Ejercicio 56 :\n",
        "Listar 10 números y calcular el cuadrado de cada uno e imprimirlos"
      ],
      "metadata": {
        "id": "RjtQgtbLwdbC"
      }
    },
    {
      "cell_type": "markdown",
      "source": [
        "## Ejercicio 57 :\n",
        "Imprimir los números del 5 al 1 en orden descendente"
      ],
      "metadata": {
        "id": "7I1Cp2gMwknp"
      }
    },
    {
      "cell_type": "markdown",
      "source": [
        "## Ejercicio 58 :\n",
        "Multiplicar todos los elementos de una lista por 2"
      ],
      "metadata": {
        "id": "YqxrW5Y4wuEt"
      }
    },
    {
      "cell_type": "markdown",
      "source": [
        "## Ejercicio 59 :\n",
        "Pedir al usuario el número e imprimir la tabla de multiplicar del mismo"
      ],
      "metadata": {
        "id": "n36pWzeOwxqW"
      }
    },
    {
      "cell_type": "markdown",
      "source": [
        "## Ejercicio 60 :\n",
        "Imprimir la suma de los números pares del 1 al 10 utilizando el ciclo for"
      ],
      "metadata": {
        "id": "pumAHML8xFsd"
      }
    },
    {
      "cell_type": "markdown",
      "source": [
        "## Ejercicio 61:\n",
        "Crea una función para sumar dos números"
      ],
      "metadata": {
        "id": "7yp255q5RFw6"
      }
    },
    {
      "cell_type": "markdown",
      "source": [
        "## Ejercicio 62:\n",
        "Crea una función para calcular el área de un círculo"
      ],
      "metadata": {
        "id": "RpbCKPJYRNkQ"
      }
    },
    {
      "cell_type": "markdown",
      "source": [
        "## Ejercicio 63:\n",
        "Crea una función para imprimir un mensaje de saludo"
      ],
      "metadata": {
        "id": "rOGR13LnRUGD"
      }
    },
    {
      "cell_type": "markdown",
      "source": [
        "## Ejercicio 64:\n",
        "Crea una función para verificar si un número es par o impar"
      ],
      "metadata": {
        "id": "vj8bpf2kRZ8j"
      }
    },
    {
      "cell_type": "markdown",
      "source": [
        "## Ejercicio 65:\n",
        "Crea una función para convertir de grados celsius a fahrenheit"
      ],
      "metadata": {
        "id": "vxywSp4_RgV4"
      }
    },
    {
      "cell_type": "markdown",
      "source": [
        "## Ejercicio 66:\n",
        "Crea una función para calcular el promedio de una lista de números"
      ],
      "metadata": {
        "id": "frhmAqW0Rm4_"
      }
    },
    {
      "cell_type": "markdown",
      "source": [
        "## Ejercicio 67:\n",
        "Crea una función para calcular el volumen de un cilindro\n",
        "V = PI * radio * 2 * altura"
      ],
      "metadata": {
        "id": "7lnXYC01RstR"
      }
    },
    {
      "cell_type": "markdown",
      "source": [
        "## Ejercicio 60:\n",
        "Crea una función para sumar dos números"
      ],
      "metadata": {
        "id": "1w9KqbWWSTE8"
      }
    },
    {
      "cell_type": "markdown",
      "source": [
        "## Ejercicio 68:\n",
        "Crea una función que pida por consola la distancia y velocidad para poder calcular el tiempo de viaje"
      ],
      "metadata": {
        "id": "Z2pcp43QR5B_"
      }
    },
    {
      "cell_type": "markdown",
      "source": [
        "## Ejercicio 70:\n",
        "Crea una función para clasificar si una sustancia es ácida, básica o neutra a partir de su pH"
      ],
      "metadata": {
        "id": "d4hUlSsrSCOj"
      }
    },
    {
      "cell_type": "markdown",
      "source": [
        "## Ejercicio 71:\n",
        "Crea una clase Rectángulo con los siguientes atributos:\n",
        "- base, altura.\n",
        "- Debe tener los siguientes métodos: __init__, calcular_area, calcular_perimetro"
      ],
      "metadata": {
        "id": "xl59MDobSbY1"
      }
    },
    {
      "cell_type": "markdown",
      "source": [
        "## Ejercicio 72:\n",
        "Crea una clase Círculo con los siguientes atributos:\n",
        "- radio: radio del círculo\n",
        "- Métodos: init, calcular_area, calcular_perimetro"
      ],
      "metadata": {
        "id": "_0uBw_wCS5Ho"
      }
    },
    {
      "cell_type": "markdown",
      "source": [
        "## Ejercicio 73:\n",
        "Crea una clase Libro con los siguientes atributos:\n",
        "- titulo, autor, editorial, año de publicación\n",
        "- Métodos: contructor"
      ],
      "metadata": {
        "id": "_-Zk22wvTGMd"
      }
    },
    {
      "cell_type": "markdown",
      "source": [
        "## Ejercicio 74:\n",
        "Crea una clase Persona con los siguientes atributos:\n",
        "- nombre, edad, dni\n",
        "- Métodos: init, es_mayor_de_edad"
      ],
      "metadata": {
        "id": "Y3McJwDETV7b"
      }
    },
    {
      "cell_type": "markdown",
      "source": [
        "## Ejercicio 75:\n",
        "Crea una clase Coche con los siguientes atributos:\n",
        "- Marca, modelo, matrícula, km\n",
        "- Métodos: init, avanzar(km)"
      ],
      "metadata": {
        "id": "6Wpf-0bnTkq1"
      }
    },
    {
      "cell_type": "markdown",
      "source": [
        "## Ejercicio 76:\n",
        "Crea una clase Animal con los siguientes atributos:\n",
        "- especie, nombre\n",
        "- Métodos: init, hablar"
      ],
      "metadata": {
        "id": "m65ht4DKTx6y"
      }
    },
    {
      "cell_type": "markdown",
      "source": [
        "## Ejercicio 77:\n",
        "Crea una clase Persona con los siguientes atributos:\n",
        "- nombre, edad\n",
        "- Contructor donde los datos están vacíos\n",
        "- Métodos: Setters y Getters, mostrar, si es mayor de edad\n",
        "-"
      ],
      "metadata": {
        "id": "1Mv4A1YcUCGG"
      }
    },
    {
      "cell_type": "markdown",
      "source": [
        "## Ejercicio 78:\n",
        "Crea una clase Persona y otra clase Estudiante\n",
        "- Persona tiene: nombre, mostrar_nombre()\n",
        "- La clase Estudiante debe heredar de la clase Persona y utilizar el método mostrar_nombre()"
      ],
      "metadata": {
        "id": "DFv3kYrYUWPX"
      }
    },
    {
      "cell_type": "markdown",
      "source": [
        "## Ejercicio 79:\n",
        "Representa una cuenta bancaria con depósito y retiro, debe haber un titular y un saldo. Utilizar POO"
      ],
      "metadata": {
        "id": "R-qif1ciUoAb"
      }
    },
    {
      "cell_type": "markdown",
      "source": [
        "## Ejercicio 80:\n",
        "Obtener la cantidad de memoria ram en mi computadora o laptop"
      ],
      "metadata": {
        "id": "N1Ok6rlZUzCi"
      }
    },
    {
      "cell_type": "code",
      "source": [],
      "metadata": {
        "id": "f0H-ZG-0TTHo"
      },
      "execution_count": 25,
      "outputs": []
    }
  ]
}