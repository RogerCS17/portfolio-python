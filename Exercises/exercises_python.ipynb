{
  "nbformat": 4,
  "nbformat_minor": 0,
  "metadata": {
    "colab": {
      "provenance": [],
      "authorship_tag": "ABX9TyNXU3em9JPVC2ISGq16oq3h",
      "include_colab_link": true
    },
    "kernelspec": {
      "name": "python3",
      "display_name": "Python 3"
    },
    "language_info": {
      "name": "python"
    }
  },
  "cells": [
    {
      "cell_type": "markdown",
      "metadata": {
        "id": "view-in-github",
        "colab_type": "text"
      },
      "source": [
        "<a href=\"https://colab.research.google.com/github/RogerCS17/portfolio-python/blob/main/Exercises/exercises_python.ipynb\" target=\"_parent\"><img src=\"https://colab.research.google.com/assets/colab-badge.svg\" alt=\"Open In Colab\"/></a>"
      ]
    },
    {
      "cell_type": "markdown",
      "source": [
        "# Ejercicios de Lógica de Programacion en Python"
      ],
      "metadata": {
        "id": "pJwJ2BFPmoKE"
      }
    },
    {
      "cell_type": "markdown",
      "source": [
        "## Ejercicio 01:\n",
        "Sumar dos números y mostrar su resultado"
      ],
      "metadata": {
        "id": "BNf32vM5v062"
      }
    },
    {
      "cell_type": "code",
      "source": [
        "# Declaramos las variables\n",
        "number01 = 4\n",
        "number02 = 10\n",
        "\n",
        "# Variable que contendrá el resultado\n",
        "resultado = number01 + number02\n",
        "\n",
        "# Mostramos el resultado\n",
        "print(f\"La suma es: {resultado}\")"
      ],
      "metadata": {
        "colab": {
          "base_uri": "https://localhost:8080/"
        },
        "id": "dpY3qqljvrAL",
        "outputId": "ab846570-a3f5-431a-f580-23a2a2c731f8"
      },
      "execution_count": 1,
      "outputs": [
        {
          "output_type": "stream",
          "name": "stdout",
          "text": [
            "14\n"
          ]
        }
      ]
    },
    {
      "cell_type": "markdown",
      "source": [
        "## Ejercicio 02:\n",
        "Calcular el área de un círculo con un radio dado"
      ],
      "metadata": {
        "id": "zdLk7hPywaVi"
      }
    },
    {
      "cell_type": "code",
      "source": [
        "# Importamos math para el valor constante de PI\n",
        "import math\n",
        "PI = math.pi\n",
        "\n",
        "# Definimos el radio\n",
        "radio = 5\n",
        "\n",
        "# Fórmula para hallar el área de un círculo\n",
        "area = PI * radio * radio\n",
        "\n",
        "# Mostramos el resultado\n",
        "print(f\"El valor del área es: {area}\")"
      ],
      "metadata": {
        "colab": {
          "base_uri": "https://localhost:8080/"
        },
        "id": "TT4SOyVywhq6",
        "outputId": "c7e6279e-095c-4be2-ba1c-619be3dc2ea2"
      },
      "execution_count": 3,
      "outputs": [
        {
          "output_type": "stream",
          "name": "stdout",
          "text": [
            "El valor del área es: 78.53981633974483\n"
          ]
        }
      ]
    },
    {
      "cell_type": "markdown",
      "source": [
        "## Ejercicio 03:\n",
        "Concantena dos cadenas de texto"
      ],
      "metadata": {
        "id": "KOR1uVicxPBW"
      }
    },
    {
      "cell_type": "code",
      "source": [
        "# Definimos dos variables de texto\n",
        "word01 = \"Hello\"\n",
        "word02 = \"world\"\n",
        "\n",
        "# Concantenamos con join\n",
        "word = word01 + \" \" + word02\n",
        "\n",
        "# Mostramos el resultado\n",
        "print(f\"La palabra concatenada es: {word}\")"
      ],
      "metadata": {
        "colab": {
          "base_uri": "https://localhost:8080/"
        },
        "id": "iQ0enn9Uw-nO",
        "outputId": "8382e323-4d62-4d02-cfd8-c4a727c06488"
      },
      "execution_count": 5,
      "outputs": [
        {
          "output_type": "stream",
          "name": "stdout",
          "text": [
            "La palabra concatenada es: Hello world\n"
          ]
        }
      ]
    },
    {
      "cell_type": "markdown",
      "source": [
        "## Ejercicio 04:\n",
        "Crear una lista con diferentes elementos e imprimirla"
      ],
      "metadata": {
        "id": "P1By8x0eyF2h"
      }
    },
    {
      "cell_type": "code",
      "source": [
        "# Definimos nuestra lista de nombres\n",
        "array = {\"Roger\", \"Omar\", \"Cabrera\", \"Silva\"}\n",
        "\n",
        "# Mostramos cada elemento de la lista\n",
        "for element in array:\n",
        "  print(element)\n",
        "\n",
        "# Mostramos la lista\n",
        "print(array)"
      ],
      "metadata": {
        "colab": {
          "base_uri": "https://localhost:8080/"
        },
        "id": "oL84FTE_x6Ij",
        "outputId": "a4fa9884-434b-465f-c9c6-02dcbc674aa0"
      },
      "execution_count": 6,
      "outputs": [
        {
          "output_type": "stream",
          "name": "stdout",
          "text": [
            "Roger\n",
            "Cabrera\n",
            "Silva\n",
            "Omar\n",
            "{'Roger', 'Cabrera', 'Silva', 'Omar'}\n"
          ]
        }
      ]
    },
    {
      "cell_type": "markdown",
      "source": [
        "## Ejercicio 05:\n",
        "Por consola, realiza una multiplicación de dos números y muestra el resultado"
      ],
      "metadata": {
        "id": "q7xGQOKDysPp"
      }
    },
    {
      "cell_type": "code",
      "source": [
        "# Variables a multiplicar\n",
        "number01 = int(input(\"Ingrese el primer número: \"))\n",
        "number02 = int(input(\"Ingrese el segundo número: \"))\n",
        "\n",
        "# Resultado\n",
        "result = number01 * number02\n",
        "\n",
        "# Mostramos el resultado\n",
        "print(f\"El resultado de la multiplicación de {number01} y {number02} es: {result}\")"
      ],
      "metadata": {
        "colab": {
          "base_uri": "https://localhost:8080/"
        },
        "id": "-Y67X1Jgyh1e",
        "outputId": "52b9ce1c-920f-42a9-846d-79bc3f2cf1b4"
      },
      "execution_count": 7,
      "outputs": [
        {
          "output_type": "stream",
          "name": "stdout",
          "text": [
            "Ingrese el primer número: 20\n",
            "Ingrese el segundo número: 4\n",
            "El resultado de la multiplicación de 20 y 4 es: 80\n"
          ]
        }
      ]
    },
    {
      "cell_type": "code",
      "source": [],
      "metadata": {
        "id": "jdiVQ3FjzQ11"
      },
      "execution_count": null,
      "outputs": []
    }
  ]
}