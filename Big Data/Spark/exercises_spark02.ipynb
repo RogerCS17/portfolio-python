{
  "nbformat": 4,
  "nbformat_minor": 0,
  "metadata": {
    "colab": {
      "provenance": [],
      "authorship_tag": "ABX9TyMXFmHUs392ujGHY2C4z5cC",
      "include_colab_link": true
    },
    "kernelspec": {
      "name": "python3",
      "display_name": "Python 3"
    },
    "language_info": {
      "name": "python"
    }
  },
  "cells": [
    {
      "cell_type": "markdown",
      "metadata": {
        "id": "view-in-github",
        "colab_type": "text"
      },
      "source": [
        "<a href=\"https://colab.research.google.com/github/RogerCS17/portfolio-python/blob/main/Big%20Data/Spark/exercises_spark02.ipynb\" target=\"_parent\"><img src=\"https://colab.research.google.com/assets/colab-badge.svg\" alt=\"Open In Colab\"/></a>"
      ]
    },
    {
      "cell_type": "markdown",
      "source": [
        "# Transformaciones en un RDD"
      ],
      "metadata": {
        "id": "SxFiaMVlVCd8"
      }
    },
    {
      "cell_type": "markdown",
      "source": [
        "Las Transformaciones crear un RDD a partir de uno existente y  nos permiten:\n",
        "- Dividir el elemento de entrada\n",
        "- Filtrar elementos\n",
        "- Realizar cálculos de algún tipo.\n",
        "\n",
        "Tenemos categorías en las transformacion:\n",
        "- Tranformaciones Generales: map, filter, flatMap, groupByKey, combineByKey.\n",
        "- Transformaciones matemáticas o estadísticas: sampleByKey, randomSplit.\n",
        "- Transformacion de conjunto o relacionales: cogroup, join, subtractByKey, fullOuterJoin, leftOuterJoin, rightOuterJoin.\n",
        "- Transformaciones basadas en estructuras de datos: partitionBy, repartition, zipwithIndex, coalesce."
      ],
      "metadata": {
        "id": "7PzEpG1xVHZ3"
      }
    },
    {
      "cell_type": "code",
      "execution_count": 1,
      "metadata": {
        "colab": {
          "base_uri": "https://localhost:8080/"
        },
        "id": "k9Dm_lDdU_D4",
        "outputId": "721dbf2b-76aa-4b1f-f1a5-25d1da11885b"
      },
      "outputs": [
        {
          "output_type": "stream",
          "name": "stdout",
          "text": [
            "Requirement already satisfied: pyspark in /usr/local/lib/python3.10/dist-packages (3.5.1)\n",
            "Requirement already satisfied: py4j==0.10.9.7 in /usr/local/lib/python3.10/dist-packages (from pyspark) (0.10.9.7)\n"
          ]
        }
      ],
      "source": [
        "# Instalamos spark\n",
        "!pip install pyspark\n",
        "\n",
        "# Importamos Spark\n",
        "from pyspark.sql import SparkSession\n",
        "\n",
        "# Iniciamos la sesión\n",
        "spark = SparkSession.builder.getOrCreate()\n",
        "\n",
        "# Creamos el SparkContext\n",
        "sc = spark.sparkContext"
      ]
    },
    {
      "cell_type": "code",
      "source": [
        "# Creamos un rdd\n",
        "rdd = sc.parallelize([1,2,3,4,5])\n",
        "\n",
        "# Se muestra el resultado\n",
        "rdd.collect()"
      ],
      "metadata": {
        "colab": {
          "base_uri": "https://localhost:8080/"
        },
        "id": "0YZlAoqwd4R2",
        "outputId": "b63c195a-c0d1-4198-d11f-398bed7f5327"
      },
      "execution_count": 2,
      "outputs": [
        {
          "output_type": "execute_result",
          "data": {
            "text/plain": [
              "[1, 2, 3, 4, 5]"
            ]
          },
          "metadata": {},
          "execution_count": 2
        }
      ]
    },
    {
      "cell_type": "markdown",
      "source": [
        "## Función Map"
      ],
      "metadata": {
        "id": "LfqiTrw5hq6q"
      }
    },
    {
      "cell_type": "code",
      "source": [
        "# Restamos uno a cada elemento del RDD\n",
        "rdd_subtraction = rdd.map(lambda x: x - 1)\n",
        "\n",
        "# Se muestra el resultado\n",
        "rdd_subtraction.collect()"
      ],
      "metadata": {
        "colab": {
          "base_uri": "https://localhost:8080/"
        },
        "id": "-enkxZjFck_m",
        "outputId": "66f3cc76-c901-4b3e-bdeb-2ea408002931"
      },
      "execution_count": 3,
      "outputs": [
        {
          "output_type": "execute_result",
          "data": {
            "text/plain": [
              "[0, 1, 2, 3, 4]"
            ]
          },
          "metadata": {},
          "execution_count": 3
        }
      ]
    },
    {
      "cell_type": "code",
      "source": [
        "# Creamos un rdd con nombres\n",
        "rdd_names = sc.parallelize([\"Roger\", \"Omar\", \"Cabrera\", \"Silva\"])\n",
        "\n",
        "# Aplicamos función map() para que retorne a mayúsculas los elementos\n",
        "rdd_upper = rdd_names.map(lambda x: x.upper())\n",
        "\n",
        "# Se muestra el resultado\n",
        "rdd_upper.collect()"
      ],
      "metadata": {
        "colab": {
          "base_uri": "https://localhost:8080/"
        },
        "id": "fUwoII40fJzG",
        "outputId": "c550f85a-8b43-4c8f-ee1b-f860f816a355"
      },
      "execution_count": 4,
      "outputs": [
        {
          "output_type": "execute_result",
          "data": {
            "text/plain": [
              "['ROGER', 'OMAR', 'CABRERA', 'SILVA']"
            ]
          },
          "metadata": {},
          "execution_count": 4
        }
      ]
    },
    {
      "cell_type": "markdown",
      "source": [
        "## Función flatMap"
      ],
      "metadata": {
        "id": "w095qBEfhjxy"
      }
    },
    {
      "cell_type": "code",
      "source": [
        "# Con la función map()\n",
        "rdd_square = rdd.map(lambda x: (x, x**2))\n",
        "\n",
        "# Se muestra el resultado\n",
        "rdd_square.collect()"
      ],
      "metadata": {
        "colab": {
          "base_uri": "https://localhost:8080/"
        },
        "id": "GufDKxHmh-YV",
        "outputId": "6961dafb-c4d9-4e67-9a4e-3beed8e2b961"
      },
      "execution_count": 5,
      "outputs": [
        {
          "output_type": "execute_result",
          "data": {
            "text/plain": [
              "[(1, 1), (2, 4), (3, 9), (4, 16), (5, 25)]"
            ]
          },
          "metadata": {},
          "execution_count": 5
        }
      ]
    },
    {
      "cell_type": "code",
      "source": [
        "# Con la función flatMap()\n",
        "rdd_square_flat = rdd.flatMap(lambda x: (x, x**2))\n",
        "\n",
        "# Se muestra el resultado\n",
        "rdd_square_flat.collect()"
      ],
      "metadata": {
        "colab": {
          "base_uri": "https://localhost:8080/"
        },
        "id": "pqbJX3vFkDBI",
        "outputId": "e0d96d68-1516-4f64-afaf-63faff41a6f7"
      },
      "execution_count": 6,
      "outputs": [
        {
          "output_type": "execute_result",
          "data": {
            "text/plain": [
              "[1, 1, 2, 4, 3, 9, 4, 16, 5, 25]"
            ]
          },
          "metadata": {},
          "execution_count": 6
        }
      ]
    },
    {
      "cell_type": "markdown",
      "source": [
        "## Función filter"
      ],
      "metadata": {
        "id": "xNe6PSuylKSR"
      }
    },
    {
      "cell_type": "code",
      "source": [
        "# Función filter()\n",
        "# Filtramos los elementos pares del rdd original\n",
        "rdd_even_numbers = rdd.filter(lambda x: x%2 == 0)\n",
        "\n",
        "# Se muestra el resultado\n",
        "rdd_even_numbers.collect()"
      ],
      "metadata": {
        "colab": {
          "base_uri": "https://localhost:8080/"
        },
        "id": "N3h1efC6lMqC",
        "outputId": "ecf141cd-162b-4436-857c-8abe6f11f89a"
      },
      "execution_count": 7,
      "outputs": [
        {
          "output_type": "execute_result",
          "data": {
            "text/plain": [
              "[2, 4]"
            ]
          },
          "metadata": {},
          "execution_count": 7
        }
      ]
    },
    {
      "cell_type": "code",
      "source": [
        "# Creamos un rdd con nombres\n",
        "rdd_names = sc.parallelize([\"Jose\", \"Juan\", \"Joaquin\", \"lucía\", \"Karla\", \"Katia\"])\n",
        "\n",
        "# Filtamos los nombres que empiecen con 'J' y su siguiente letra sea la 'o'\n",
        "rdd_names_filter = rdd_names.filter(lambda x: x.startswith(\"J\") and x.find(\"o\") == 1 )\n",
        "\n",
        "# Se muestra el resultado\n",
        "rdd_names_filter.collect()"
      ],
      "metadata": {
        "colab": {
          "base_uri": "https://localhost:8080/"
        },
        "id": "keYrqmUEmUsK",
        "outputId": "29838e29-bef0-4cff-98a0-a19a0e03040f"
      },
      "execution_count": 8,
      "outputs": [
        {
          "output_type": "execute_result",
          "data": {
            "text/plain": [
              "['Jose', 'Joaquin']"
            ]
          },
          "metadata": {},
          "execution_count": 8
        }
      ]
    },
    {
      "cell_type": "markdown",
      "source": [
        "## Función coalesce"
      ],
      "metadata": {
        "id": "0-Nmag6FnVei"
      }
    },
    {
      "cell_type": "code",
      "source": [
        "# Creamos nuestro RDD con particiones\n",
        "rdd = sc.parallelize([1,2,3,4,5], 10)\n",
        "\n",
        "# Se muestra las particiones\n",
        "rdd.getNumPartitions()"
      ],
      "metadata": {
        "colab": {
          "base_uri": "https://localhost:8080/"
        },
        "id": "1sL1lYMcnXD9",
        "outputId": "3441d932-ef04-465a-cf44-04d9511b4acc"
      },
      "execution_count": 9,
      "outputs": [
        {
          "output_type": "execute_result",
          "data": {
            "text/plain": [
              "10"
            ]
          },
          "metadata": {},
          "execution_count": 9
        }
      ]
    },
    {
      "cell_type": "code",
      "source": [
        "# Modificamos las particiones con coalesce()\n",
        "rdd_coalesce = rdd.coalesce(5)\n",
        "\n",
        "# Se muestra el resultado\n",
        "rdd_coalesce.getNumPartitions()"
      ],
      "metadata": {
        "colab": {
          "base_uri": "https://localhost:8080/"
        },
        "id": "GSK6EIMtnujU",
        "outputId": "1f6a6b94-2be3-435e-ec3a-b4e8b7f7053a"
      },
      "execution_count": 10,
      "outputs": [
        {
          "output_type": "execute_result",
          "data": {
            "text/plain": [
              "5"
            ]
          },
          "metadata": {},
          "execution_count": 10
        }
      ]
    },
    {
      "cell_type": "markdown",
      "source": [
        "## Función repartition"
      ],
      "metadata": {
        "id": "zx8y9hMttCj9"
      }
    },
    {
      "cell_type": "code",
      "source": [
        "# Creamos un rdd\n",
        "rdd = sc.parallelize([1,2,3,4,5], 3)\n",
        "\n",
        "# Se muestra las particiones\n",
        "rdd.getNumPartitions()"
      ],
      "metadata": {
        "colab": {
          "base_uri": "https://localhost:8080/"
        },
        "id": "GHgw7esvtXzo",
        "outputId": "46557893-0760-4d86-a9a6-6ce2b57630d7"
      },
      "execution_count": 11,
      "outputs": [
        {
          "output_type": "execute_result",
          "data": {
            "text/plain": [
              "3"
            ]
          },
          "metadata": {},
          "execution_count": 11
        }
      ]
    },
    {
      "cell_type": "code",
      "source": [
        "# Realizamos la partición\n",
        "rdd_repartition = rdd.repartition(7)\n",
        "\n",
        "# Mostramos el resultado\n",
        "rdd_repartition.getNumPartitions()"
      ],
      "metadata": {
        "colab": {
          "base_uri": "https://localhost:8080/"
        },
        "id": "w5xRgSmNuGxD",
        "outputId": "52eaf9fa-a258-4cfe-d916-5191f37ba2ee"
      },
      "execution_count": 12,
      "outputs": [
        {
          "output_type": "execute_result",
          "data": {
            "text/plain": [
              "7"
            ]
          },
          "metadata": {},
          "execution_count": 12
        }
      ]
    },
    {
      "cell_type": "markdown",
      "source": [
        "coalesce vs repartition:\n",
        "\n",
        "coalesce se usa solo para reducir el número de particiones. Esta es una versión optimizada de repartition donde el movimiento de los datos a través de las particiones es menor\n",
        "\n",
        "Nota:\n",
        "\n",
        "repartition y coalesce son operaciones muy costosas ya que mezclan los datos en muchas particiones, por lo tanto, intente minimizar el uso de estas tanto como sea posible"
      ],
      "metadata": {
        "id": "8DZulrowvktn"
      }
    },
    {
      "cell_type": "markdown",
      "source": [
        "## Función reduceByKey"
      ],
      "metadata": {
        "id": "OLOWk9hvwv99"
      }
    },
    {
      "cell_type": "code",
      "source": [
        "# Creamos una colección clave valor\n",
        "data = [(\"a\", 1), (\"b\", 2), (\"a\", 3), (\"b\", 4), (\"a\", 5), (\"c\", 6)]\n",
        "\n",
        "# Creamos el rdd con la colección\n",
        "rdd = sc.parallelize(data)\n",
        "\n",
        "# Se muestra el resultado\n",
        "rdd.collect()"
      ],
      "metadata": {
        "colab": {
          "base_uri": "https://localhost:8080/"
        },
        "id": "lXme_LzcwzNS",
        "outputId": "bc30c5a0-2dd6-4cfe-80cf-85e89db83dc8"
      },
      "execution_count": 13,
      "outputs": [
        {
          "output_type": "execute_result",
          "data": {
            "text/plain": [
              "[('a', 1), ('b', 2), ('a', 3), ('b', 4), ('a', 5), ('c', 6)]"
            ]
          },
          "metadata": {},
          "execution_count": 13
        }
      ]
    },
    {
      "cell_type": "code",
      "source": [
        "# Reducimos por llave\n",
        "rdd_reduce = rdd.reduceByKey(lambda x, y: x + y)\n",
        "\n",
        "# Se muestra el resultado\n",
        "rdd_reduce.collect()"
      ],
      "metadata": {
        "colab": {
          "base_uri": "https://localhost:8080/"
        },
        "id": "bDQ6EIh7y7wi",
        "outputId": "19e18e87-4ccf-4f31-fdb3-5978ad3fb56b"
      },
      "execution_count": 14,
      "outputs": [
        {
          "output_type": "execute_result",
          "data": {
            "text/plain": [
              "[('b', 6), ('c', 6), ('a', 9)]"
            ]
          },
          "metadata": {},
          "execution_count": 14
        }
      ]
    },
    {
      "cell_type": "markdown",
      "source": [
        "## Ejercicios"
      ],
      "metadata": {
        "id": "O_CKfc-H0ggj"
      }
    },
    {
      "cell_type": "markdown",
      "source": [
        "1. Cree un RDD llamado lenguajes que contenga los siguientes lenguajes de programación: Python, R, C, Scala, Rugby y SQL."
      ],
      "metadata": {
        "id": "bgGvAdvm0jeg"
      }
    },
    {
      "cell_type": "code",
      "source": [
        "# Creación de lista con los lenguajes de programación\n",
        "list_languages = [\"Python\", \"R\", \"C\", \"Scala\", \"Ruby\", \"SQL\"]\n",
        "\n",
        "# Creación del RDD\n",
        "rdd_languages = sc.parallelize(list_languages)\n",
        "\n",
        "# Se muestra el resultado\n",
        "rdd_languages.collect()"
      ],
      "metadata": {
        "colab": {
          "base_uri": "https://localhost:8080/"
        },
        "id": "bwMZ6_Jv0pgK",
        "outputId": "82bdaec7-17fd-43ef-9de0-0e64ba1115c6"
      },
      "execution_count": 15,
      "outputs": [
        {
          "output_type": "execute_result",
          "data": {
            "text/plain": [
              "['Python', 'R', 'C', 'Scala', 'Ruby', 'SQL']"
            ]
          },
          "metadata": {},
          "execution_count": 15
        }
      ]
    },
    {
      "cell_type": "markdown",
      "source": [
        "- Obtenga un nuevo RDD a partir del RDD lenguajes donde todos los lenguajes de programación estén en mayúsculas."
      ],
      "metadata": {
        "id": "hYi2RkHc3BY-"
      }
    },
    {
      "cell_type": "code",
      "source": [
        "# Se utiliza la función map\n",
        "rdd_upper_languages = rdd_languages.map(lambda x: x.upper())\n",
        "\n",
        "# Se muestra el resultado\n",
        "rdd_upper_languages.collect()"
      ],
      "metadata": {
        "colab": {
          "base_uri": "https://localhost:8080/"
        },
        "id": "zr0NKsVz2rrQ",
        "outputId": "3c687a00-6401-497d-e088-586ecc80811e"
      },
      "execution_count": 16,
      "outputs": [
        {
          "output_type": "execute_result",
          "data": {
            "text/plain": [
              "['PYTHON', 'R', 'C', 'SCALA', 'RUBY', 'SQL']"
            ]
          },
          "metadata": {},
          "execution_count": 16
        }
      ]
    },
    {
      "cell_type": "markdown",
      "source": [
        "- Obtenga un nuevo RDD a partir del RDD lenguajes donde todos los lenguajes de programación estén en minúsculas."
      ],
      "metadata": {
        "id": "lRnHitQx3YAF"
      }
    },
    {
      "cell_type": "code",
      "source": [
        "# Se utiliza la función map\n",
        "rdd_lower_languages = rdd_languages.map(lambda x: x.lower())\n",
        "\n",
        "# Se muestra el resultado\n",
        "rdd_lower_languages.collect()"
      ],
      "metadata": {
        "colab": {
          "base_uri": "https://localhost:8080/"
        },
        "id": "w_G-VA4p3abW",
        "outputId": "1b269413-22f6-457f-e18b-d32a8a8c2385"
      },
      "execution_count": 17,
      "outputs": [
        {
          "output_type": "execute_result",
          "data": {
            "text/plain": [
              "['python', 'r', 'c', 'scala', 'ruby', 'sql']"
            ]
          },
          "metadata": {},
          "execution_count": 17
        }
      ]
    },
    {
      "cell_type": "markdown",
      "source": [
        "- Cree un nuevo RDD que solo contenga aquellos lenguajes de programación que comiencen con la letra R."
      ],
      "metadata": {
        "id": "y1SLriNl3h2P"
      }
    },
    {
      "cell_type": "code",
      "source": [
        "# Se utiliza la función filter\n",
        "rdd_languages_r = rdd_languages.filter(lambda x: x.startswith(\"R\"))\n",
        "\n",
        "# Se muestra el resultado\n",
        "rdd_languages_r.collect()"
      ],
      "metadata": {
        "colab": {
          "base_uri": "https://localhost:8080/"
        },
        "id": "YV3N2bz83yOe",
        "outputId": "2eb173ec-c07d-4956-ec44-837dc5e3f9e7"
      },
      "execution_count": 18,
      "outputs": [
        {
          "output_type": "execute_result",
          "data": {
            "text/plain": [
              "['R', 'Ruby']"
            ]
          },
          "metadata": {},
          "execution_count": 18
        }
      ]
    },
    {
      "cell_type": "markdown",
      "source": [
        "2. Cree un RDD llamado pares que contenga los números pares existentes en el intervalo [20;30]."
      ],
      "metadata": {
        "id": "KvkKumlR4JDk"
      }
    },
    {
      "cell_type": "code",
      "source": [
        "# Se crea la lista de pares en ese intervalo\n",
        "list_even = [x for x in range(20,31) if x%2 ==0]\n",
        "\n",
        "# Se crea el RDD que contendrá la lista de apres\n",
        "rdd_even_interval = sc.parallelize(list_even)\n",
        "\n",
        "# Se muestra el resultado\n",
        "rdd_even_interval.collect()"
      ],
      "metadata": {
        "colab": {
          "base_uri": "https://localhost:8080/"
        },
        "id": "6lAXAd754MPM",
        "outputId": "2c8b44d4-dde8-414f-afb0-ee9ee1dcac4c"
      },
      "execution_count": 19,
      "outputs": [
        {
          "output_type": "execute_result",
          "data": {
            "text/plain": [
              "[20, 22, 24, 26, 28, 30]"
            ]
          },
          "metadata": {},
          "execution_count": 19
        }
      ]
    },
    {
      "cell_type": "markdown",
      "source": [
        "- Cree el RDD llamado sqrt, este debe contener la raíz cuadrada de los elementos que componen el RDD pares."
      ],
      "metadata": {
        "id": "f5alTn365AxJ"
      }
    },
    {
      "cell_type": "code",
      "source": [
        "# Se crea el RDD que contendrá las raíz cuadrada de los elemento\n",
        "rdd_sqrt = rdd_even_interval.map(lambda x: x **0.5)\n",
        "\n",
        "# Se muestra el resultado\n",
        "rdd_sqrt.collect()"
      ],
      "metadata": {
        "colab": {
          "base_uri": "https://localhost:8080/"
        },
        "id": "iBUASze-5AQo",
        "outputId": "40973969-1f74-40a5-d524-6418c6bbe42f"
      },
      "execution_count": 20,
      "outputs": [
        {
          "output_type": "execute_result",
          "data": {
            "text/plain": [
              "[4.47213595499958,\n",
              " 4.69041575982343,\n",
              " 4.898979485566356,\n",
              " 5.0990195135927845,\n",
              " 5.291502622129181,\n",
              " 5.477225575051661]"
            ]
          },
          "metadata": {},
          "execution_count": 20
        }
      ]
    },
    {
      "cell_type": "markdown",
      "source": [
        "- Obtenga una lista compuesta por los números pares en el intervalo [20;30] y sus respectivas raíces cuadradas. Un ejemplo del resultado deseado para el intervalo [50;60] sería la lista [50, 7.0710678118654755, 52, 7.211102550927978, 54, 7.3484692283495345, 56, 7.483314773547883, 58, 7.615773105863909, 60, 7.745966692414834].\n",
        "\n"
      ],
      "metadata": {
        "id": "97M1LxJ15tQ5"
      }
    },
    {
      "cell_type": "code",
      "source": [
        "# Se crea el RDD con la función reducedByKey\n",
        "rdd_sqrt_flat  = rdd_even_interval.flatMap(lambda x: (x, x**0.5))\n",
        "\n",
        "# Se muestra el resultado\n",
        "rdd_sqrt_flat.collect()"
      ],
      "metadata": {
        "colab": {
          "base_uri": "https://localhost:8080/"
        },
        "id": "i_hS5hQX5sgn",
        "outputId": "d738c0f3-1815-4174-cd62-6ffb2ca44cdc"
      },
      "execution_count": 21,
      "outputs": [
        {
          "output_type": "execute_result",
          "data": {
            "text/plain": [
              "[20,\n",
              " 4.47213595499958,\n",
              " 22,\n",
              " 4.69041575982343,\n",
              " 24,\n",
              " 4.898979485566356,\n",
              " 26,\n",
              " 5.0990195135927845,\n",
              " 28,\n",
              " 5.291502622129181,\n",
              " 30,\n",
              " 5.477225575051661]"
            ]
          },
          "metadata": {},
          "execution_count": 21
        }
      ]
    },
    {
      "cell_type": "markdown",
      "source": [
        "- Eleve el número de particiones del RDD sqrt a 20."
      ],
      "metadata": {
        "id": "IzJp_fRg7SWf"
      }
    },
    {
      "cell_type": "code",
      "source": [
        "# Se aplica la función repartition\n",
        "rdd_sqrt_repartition = rdd_sqrt.repartition(20)\n",
        "\n",
        "# Se muestra el resultado\n",
        "rdd_sqrt_repartition.getNumPartitions()"
      ],
      "metadata": {
        "colab": {
          "base_uri": "https://localhost:8080/"
        },
        "id": "ApYWPX4A5O2n",
        "outputId": "464987a4-595c-4cb0-cad4-a45e805541cf"
      },
      "execution_count": 22,
      "outputs": [
        {
          "output_type": "execute_result",
          "data": {
            "text/plain": [
              "20"
            ]
          },
          "metadata": {},
          "execution_count": 22
        }
      ]
    },
    {
      "cell_type": "markdown",
      "source": [
        "- Si tuviera que disminuir el número de particiones luego de haberlo establecido en 20, ¿qué función utilizaría para hacer más eficiente su código?"
      ],
      "metadata": {
        "id": "4eh9sGz57k3G"
      }
    },
    {
      "cell_type": "code",
      "source": [
        "# Usamos coalesce ya que esta optimizado para reducir las particiones\n",
        "rdd_sqrt_coalesce = rdd_sqrt_repartition.coalesce(5)\n",
        "\n",
        "# Se muestra el resultado\n",
        "rdd_sqrt_coalesce.getNumPartitions()"
      ],
      "metadata": {
        "colab": {
          "base_uri": "https://localhost:8080/"
        },
        "id": "AhI4PFH17mOB",
        "outputId": "32ad1434-9e28-4518-f378-94f25cfcbb74"
      },
      "execution_count": 23,
      "outputs": [
        {
          "output_type": "execute_result",
          "data": {
            "text/plain": [
              "5"
            ]
          },
          "metadata": {},
          "execution_count": 23
        }
      ]
    }
  ]
}