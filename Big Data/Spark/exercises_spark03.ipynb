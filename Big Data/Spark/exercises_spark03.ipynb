{
  "nbformat": 4,
  "nbformat_minor": 0,
  "metadata": {
    "colab": {
      "provenance": [],
      "authorship_tag": "ABX9TyO2An1hpcBLlCmyHVqfcqpn",
      "include_colab_link": true
    },
    "kernelspec": {
      "name": "python3",
      "display_name": "Python 3"
    },
    "language_info": {
      "name": "python"
    }
  },
  "cells": [
    {
      "cell_type": "markdown",
      "metadata": {
        "id": "view-in-github",
        "colab_type": "text"
      },
      "source": [
        "<a href=\"https://colab.research.google.com/github/RogerCS17/portfolio-python/blob/main/Big%20Data/Spark/exercises_spark03.ipynb\" target=\"_parent\"><img src=\"https://colab.research.google.com/assets/colab-badge.svg\" alt=\"Open In Colab\"/></a>"
      ]
    },
    {
      "cell_type": "markdown",
      "source": [
        "# Acciones en un RDD"
      ],
      "metadata": {
        "id": "SxFiaMVlVCd8"
      }
    },
    {
      "cell_type": "markdown",
      "source": [
        "Operación que se aplica a un RDD y que devuelve un valor al driver program o realizar un efecto colateral, como escribir datos a un sistema de almacenamiento"
      ],
      "metadata": {
        "id": "7prGk4gooP5n"
      }
    },
    {
      "cell_type": "code",
      "execution_count": 1,
      "metadata": {
        "colab": {
          "base_uri": "https://localhost:8080/"
        },
        "id": "ycZjNqgNmQLX",
        "outputId": "42ed4b27-4c25-42ba-c576-a7dc9697a811"
      },
      "outputs": [
        {
          "output_type": "stream",
          "name": "stdout",
          "text": [
            "Collecting pyspark\n",
            "  Downloading pyspark-3.5.1.tar.gz (317.0 MB)\n",
            "\u001b[2K     \u001b[90m━━━━━━━━━━━━━━━━━━━━━━━━━━━━━━━━━━━━━━━━\u001b[0m \u001b[32m317.0/317.0 MB\u001b[0m \u001b[31m2.7 MB/s\u001b[0m eta \u001b[36m0:00:00\u001b[0m\n",
            "\u001b[?25h  Preparing metadata (setup.py) ... \u001b[?25l\u001b[?25hdone\n",
            "Requirement already satisfied: py4j==0.10.9.7 in /usr/local/lib/python3.10/dist-packages (from pyspark) (0.10.9.7)\n",
            "Building wheels for collected packages: pyspark\n",
            "  Building wheel for pyspark (setup.py) ... \u001b[?25l\u001b[?25hdone\n",
            "  Created wheel for pyspark: filename=pyspark-3.5.1-py2.py3-none-any.whl size=317488491 sha256=918da535ba8246a86ea24c1b69a0c1f2e9302efc610342d9413454c21656d2fe\n",
            "  Stored in directory: /root/.cache/pip/wheels/80/1d/60/2c256ed38dddce2fdd93be545214a63e02fbd8d74fb0b7f3a6\n",
            "Successfully built pyspark\n",
            "Installing collected packages: pyspark\n",
            "Successfully installed pyspark-3.5.1\n"
          ]
        }
      ],
      "source": [
        "# Se instala Spark\n",
        "!pip install pyspark\n",
        "\n",
        "# Se importa Spark\n",
        "from pyspark.sql import SparkSession\n",
        "\n",
        "# Se crea una sesión se Spark\n",
        "spark = SparkSession.builder.getOrCreate()\n",
        "\n",
        "# Se crea el SparkContext\n",
        "sc = spark.sparkContext"
      ]
    },
    {
      "cell_type": "code",
      "source": [
        "# Se crea un RDD\n",
        "rdd = sc.parallelize([2,4,6,8,10])\n",
        "\n",
        "# Se muestra el resultado\n",
        "rdd.collect()"
      ],
      "metadata": {
        "colab": {
          "base_uri": "https://localhost:8080/"
        },
        "id": "EX7QSHFZp9e3",
        "outputId": "29bfa93d-d994-47df-aca1-a89e1c440085"
      },
      "execution_count": 2,
      "outputs": [
        {
          "output_type": "execute_result",
          "data": {
            "text/plain": [
              "[2, 4, 6, 8, 10]"
            ]
          },
          "metadata": {},
          "execution_count": 2
        }
      ]
    },
    {
      "cell_type": "markdown",
      "source": [],
      "metadata": {
        "id": "trI2qaAqo4hJ"
      }
    },
    {
      "cell_type": "markdown",
      "source": [
        "## Función Reduce"
      ],
      "metadata": {
        "id": "wopaLq8Moy-S"
      }
    },
    {
      "cell_type": "code",
      "source": [
        "# Se aplica la función reduce al RDD\n",
        "rdd.reduce(lambda x, y: x + y)"
      ],
      "metadata": {
        "colab": {
          "base_uri": "https://localhost:8080/"
        },
        "id": "wc0usYX2o3Km",
        "outputId": "86deb168-3a2a-4c0d-b308-1babe22a68d4"
      },
      "execution_count": 3,
      "outputs": [
        {
          "output_type": "execute_result",
          "data": {
            "text/plain": [
              "30"
            ]
          },
          "metadata": {},
          "execution_count": 3
        }
      ]
    },
    {
      "cell_type": "markdown",
      "source": [
        "## Función Count"
      ],
      "metadata": {
        "id": "cFdq8y11rLKX"
      }
    },
    {
      "cell_type": "code",
      "source": [
        "# Se aplica la función count al RDD\n",
        "rdd.count()"
      ],
      "metadata": {
        "colab": {
          "base_uri": "https://localhost:8080/"
        },
        "id": "QjObazxIrOd3",
        "outputId": "43b040a3-0eba-4c88-9611-4f5a28164be0"
      },
      "execution_count": 4,
      "outputs": [
        {
          "output_type": "execute_result",
          "data": {
            "text/plain": [
              "5"
            ]
          },
          "metadata": {},
          "execution_count": 4
        }
      ]
    },
    {
      "cell_type": "markdown",
      "source": [
        "## Función Collect"
      ],
      "metadata": {
        "id": "fhY3OMEUsb_B"
      }
    },
    {
      "cell_type": "code",
      "source": [
        "# Se aplica la función collect\n",
        "rdd.collect()"
      ],
      "metadata": {
        "colab": {
          "base_uri": "https://localhost:8080/"
        },
        "id": "e8-iod3NsbZ6",
        "outputId": "90187cd7-d312-409d-a99e-f3c1f6f4616b"
      },
      "execution_count": 5,
      "outputs": [
        {
          "output_type": "execute_result",
          "data": {
            "text/plain": [
              "[2, 4, 6, 8, 10]"
            ]
          },
          "metadata": {},
          "execution_count": 5
        }
      ]
    },
    {
      "cell_type": "markdown",
      "source": [
        "## Función Take"
      ],
      "metadata": {
        "id": "OwRQHZiuubqZ"
      }
    },
    {
      "cell_type": "code",
      "source": [
        "# Se aplica la función take\n",
        "rdd.take(2)"
      ],
      "metadata": {
        "colab": {
          "base_uri": "https://localhost:8080/"
        },
        "id": "FFw_z0AJueG0",
        "outputId": "ff0f19eb-5edf-4703-d832-c68e37b304cf"
      },
      "execution_count": 6,
      "outputs": [
        {
          "output_type": "execute_result",
          "data": {
            "text/plain": [
              "[2, 4]"
            ]
          },
          "metadata": {},
          "execution_count": 6
        }
      ]
    },
    {
      "cell_type": "markdown",
      "source": [
        "## Función Max"
      ],
      "metadata": {
        "id": "LmJ-Bbhaudrc"
      }
    },
    {
      "cell_type": "code",
      "source": [
        "# Se aplica la función max\n",
        "rdd.max()"
      ],
      "metadata": {
        "colab": {
          "base_uri": "https://localhost:8080/"
        },
        "id": "h3LMqfz3ukCz",
        "outputId": "11650792-d8f5-4924-bf8f-41be959ea44b"
      },
      "execution_count": 7,
      "outputs": [
        {
          "output_type": "execute_result",
          "data": {
            "text/plain": [
              "10"
            ]
          },
          "metadata": {},
          "execution_count": 7
        }
      ]
    },
    {
      "cell_type": "markdown",
      "source": [
        "## Función saveAsTextFile"
      ],
      "metadata": {
        "id": "Vub98Q10upXe"
      }
    },
    {
      "cell_type": "code",
      "source": [
        "# Se aplica la función saveAsTextFile\n",
        "rdd.saveAsTextFile(\"./rdd\")"
      ],
      "metadata": {
        "id": "kNu_w68Hun8S"
      },
      "execution_count": 8,
      "outputs": []
    },
    {
      "cell_type": "code",
      "source": [
        "# Si se requiere guardar en una sola partición, se usa coalesce\n",
        "rdd.coalesce(1).saveAsTextFile(\"./rdd_coalesce\")"
      ],
      "metadata": {
        "id": "wVcVT-Qsu19W"
      },
      "execution_count": 9,
      "outputs": []
    },
    {
      "cell_type": "markdown",
      "source": [
        "## Ejercicios"
      ],
      "metadata": {
        "id": "f_Al43ywvAoz"
      }
    },
    {
      "cell_type": "markdown",
      "source": [
        "1. Cree un RDD llamado importes a partir del archivo adjunto a esta lección como recurso."
      ],
      "metadata": {
        "id": "z-vGwPvLvCEj"
      }
    },
    {
      "cell_type": "code",
      "source": [
        "# Se importa los datos del archivo\n",
        "rdd_text = sc.textFile(\"./num.txt\")\n",
        "\n",
        "# Se muestra el resultado\n",
        "rdd_text.collect()"
      ],
      "metadata": {
        "id": "lO0DtZBzvm8u",
        "colab": {
          "base_uri": "https://localhost:8080/"
        },
        "outputId": "8796a70e-eded-4b8b-f08c-cceeb0b7f267"
      },
      "execution_count": 10,
      "outputs": [
        {
          "output_type": "execute_result",
          "data": {
            "text/plain": [
              "['70',\n",
              " '69',\n",
              " '16',\n",
              " '80',\n",
              " '85',\n",
              " '81',\n",
              " '93',\n",
              " '5',\n",
              " '78',\n",
              " '21',\n",
              " '13',\n",
              " '77',\n",
              " '93',\n",
              " '31',\n",
              " '16',\n",
              " '84',\n",
              " '64',\n",
              " '29',\n",
              " '45',\n",
              " '24',\n",
              " '64',\n",
              " '31',\n",
              " '2',\n",
              " '55',\n",
              " '51',\n",
              " '92',\n",
              " '72',\n",
              " '84',\n",
              " '22',\n",
              " '50',\n",
              " '17',\n",
              " '5',\n",
              " '96',\n",
              " '63',\n",
              " '67',\n",
              " '82',\n",
              " '52',\n",
              " '38',\n",
              " '86',\n",
              " '23',\n",
              " '90',\n",
              " '96',\n",
              " '53',\n",
              " '95',\n",
              " '10',\n",
              " '28',\n",
              " '75',\n",
              " '72',\n",
              " '67',\n",
              " '82',\n",
              " '40',\n",
              " '60',\n",
              " '34',\n",
              " '26',\n",
              " '47',\n",
              " '55',\n",
              " '10',\n",
              " '46',\n",
              " '86',\n",
              " '46',\n",
              " '64',\n",
              " '37',\n",
              " '31',\n",
              " '43',\n",
              " '74',\n",
              " '44',\n",
              " '87',\n",
              " '7',\n",
              " '54',\n",
              " '95',\n",
              " '43',\n",
              " '79',\n",
              " '79',\n",
              " '53',\n",
              " '62',\n",
              " '13',\n",
              " '37',\n",
              " '45',\n",
              " '40',\n",
              " '81',\n",
              " '50',\n",
              " '41',\n",
              " '30',\n",
              " '81',\n",
              " '27',\n",
              " '27',\n",
              " '49',\n",
              " '97',\n",
              " '73',\n",
              " '99',\n",
              " '77',\n",
              " '64',\n",
              " '47',\n",
              " '68',\n",
              " '8',\n",
              " '79',\n",
              " '13',\n",
              " '49',\n",
              " '75',\n",
              " '2',\n",
              " '23',\n",
              " '94',\n",
              " '21',\n",
              " '2',\n",
              " '10',\n",
              " '9',\n",
              " '19',\n",
              " '75',\n",
              " '7',\n",
              " '27',\n",
              " '55',\n",
              " '38',\n",
              " '10',\n",
              " '39',\n",
              " '73',\n",
              " '21',\n",
              " '81',\n",
              " '1',\n",
              " '61',\n",
              " '62',\n",
              " '5',\n",
              " '91',\n",
              " '68',\n",
              " '35',\n",
              " '81',\n",
              " '91',\n",
              " '34',\n",
              " '24',\n",
              " '63',\n",
              " '61',\n",
              " '32',\n",
              " '11',\n",
              " '74',\n",
              " '43',\n",
              " '98',\n",
              " '18',\n",
              " '25',\n",
              " '33',\n",
              " '31',\n",
              " '32',\n",
              " '42',\n",
              " '97',\n",
              " '11',\n",
              " '28',\n",
              " '14',\n",
              " '49',\n",
              " '34',\n",
              " '78',\n",
              " '50',\n",
              " '76',\n",
              " '25',\n",
              " '79',\n",
              " '61',\n",
              " '15',\n",
              " '57',\n",
              " '60',\n",
              " '61',\n",
              " '52',\n",
              " '94',\n",
              " '32',\n",
              " '30',\n",
              " '71',\n",
              " '16',\n",
              " '32',\n",
              " '26',\n",
              " '30',\n",
              " '42',\n",
              " '36',\n",
              " '45',\n",
              " '1',\n",
              " '91',\n",
              " '47',\n",
              " '19',\n",
              " '43',\n",
              " '71',\n",
              " '41',\n",
              " '95',\n",
              " '12',\n",
              " '64',\n",
              " '95',\n",
              " '51',\n",
              " '39',\n",
              " '55',\n",
              " '99',\n",
              " '12',\n",
              " '98',\n",
              " '97',\n",
              " '37',\n",
              " '25',\n",
              " '45',\n",
              " '36',\n",
              " '13',\n",
              " '63',\n",
              " '81',\n",
              " '16',\n",
              " '56',\n",
              " '33',\n",
              " '61',\n",
              " '31',\n",
              " '39',\n",
              " '84',\n",
              " '30',\n",
              " '97',\n",
              " '37',\n",
              " '29',\n",
              " '94',\n",
              " '76',\n",
              " '39',\n",
              " '62',\n",
              " '12',\n",
              " '97',\n",
              " '90',\n",
              " '50',\n",
              " '85',\n",
              " '25',\n",
              " '28',\n",
              " '35',\n",
              " '63',\n",
              " '25',\n",
              " '56',\n",
              " '43',\n",
              " '18',\n",
              " '57',\n",
              " '20',\n",
              " '62',\n",
              " '51',\n",
              " '63',\n",
              " '27',\n",
              " '82',\n",
              " '71',\n",
              " '24',\n",
              " '7',\n",
              " '70']"
            ]
          },
          "metadata": {},
          "execution_count": 10
        }
      ]
    },
    {
      "cell_type": "markdown",
      "source": [
        "¿Cuántos registros tiene el RDD importes?"
      ],
      "metadata": {
        "id": "oMqs5n6FwDDy"
      }
    },
    {
      "cell_type": "code",
      "source": [
        "# Se aplica la función count() para saber los registros\n",
        "rdd_text.count()"
      ],
      "metadata": {
        "id": "Tz3E20ZewA7o",
        "colab": {
          "base_uri": "https://localhost:8080/"
        },
        "outputId": "758c1d02-eb2e-48a4-cc47-cb802aab57ca"
      },
      "execution_count": 11,
      "outputs": [
        {
          "output_type": "execute_result",
          "data": {
            "text/plain": [
              "233"
            ]
          },
          "metadata": {},
          "execution_count": 11
        }
      ]
    },
    {
      "cell_type": "markdown",
      "source": [
        "¿Cuál es el valor mínimo y máximo del RDD importes?"
      ],
      "metadata": {
        "id": "N1c7Y1UywNyj"
      }
    },
    {
      "cell_type": "code",
      "source": [
        "# Se aplica la función max() para hallar el máximo\n",
        "rdd_text.max()"
      ],
      "metadata": {
        "id": "2cTQHeIMwC2Z",
        "colab": {
          "base_uri": "https://localhost:8080/",
          "height": 35
        },
        "outputId": "b2cdae16-a58f-4220-cd33-d03e54a74020"
      },
      "execution_count": 12,
      "outputs": [
        {
          "output_type": "execute_result",
          "data": {
            "text/plain": [
              "'99'"
            ],
            "application/vnd.google.colaboratory.intrinsic+json": {
              "type": "string"
            }
          },
          "metadata": {},
          "execution_count": 12
        }
      ]
    },
    {
      "cell_type": "code",
      "source": [
        "# Se aplica la función min() para hallar el máximo\n",
        "rdd_text.min()"
      ],
      "metadata": {
        "id": "2VActrOBwWMg",
        "colab": {
          "base_uri": "https://localhost:8080/",
          "height": 35
        },
        "outputId": "2b986061-a187-490e-b951-78a3c66d0caa"
      },
      "execution_count": 13,
      "outputs": [
        {
          "output_type": "execute_result",
          "data": {
            "text/plain": [
              "'1'"
            ],
            "application/vnd.google.colaboratory.intrinsic+json": {
              "type": "string"
            }
          },
          "metadata": {},
          "execution_count": 13
        }
      ]
    },
    {
      "cell_type": "markdown",
      "source": [
        "Cree un RDD top15 que contenga los 15 mayores valores del RDD importes. Tenga en cuenta que pueden repetirse los valores. Por último, escriba el RDD top15 como archivo de texto en la carpeta data/salida."
      ],
      "metadata": {
        "id": "JkQEmTSvxQfY"
      }
    },
    {
      "cell_type": "code",
      "source": [
        "# Se extra los 15 mayores valores en una lista\n",
        "list_top15 = rdd_text.top(15)\n",
        "\n",
        "# Se crea un RDD para almacenar estos elemento\n",
        "rdd_top15 = sc.parallelize(list_top15)\n",
        "\n",
        "# Se muestra el resultado\n",
        "rdd_top15.collect()"
      ],
      "metadata": {
        "id": "cMSWjZRIxVBC",
        "colab": {
          "base_uri": "https://localhost:8080/"
        },
        "outputId": "029f55ec-2cd8-4bef-d125-ec3622f06660"
      },
      "execution_count": 14,
      "outputs": [
        {
          "output_type": "execute_result",
          "data": {
            "text/plain": [
              "['99',\n",
              " '99',\n",
              " '98',\n",
              " '98',\n",
              " '97',\n",
              " '97',\n",
              " '97',\n",
              " '97',\n",
              " '97',\n",
              " '96',\n",
              " '96',\n",
              " '95',\n",
              " '95',\n",
              " '95',\n",
              " '95']"
            ]
          },
          "metadata": {},
          "execution_count": 14
        }
      ]
    },
    {
      "cell_type": "code",
      "source": [
        "# Se guarda en un archivo de texto\n",
        "rdd_top15.saveAsTextFile(\"./data/salida\")"
      ],
      "metadata": {
        "id": "vqn9jBGFyYyh"
      },
      "execution_count": 15,
      "outputs": []
    },
    {
      "cell_type": "markdown",
      "source": [
        "2. Cree una función llamada factorial que calcule el factorial de un número dado como parámetro. Utilice RDDs para el cálculo."
      ],
      "metadata": {
        "id": "cRzaUmJEy2GX"
      }
    },
    {
      "cell_type": "code",
      "source": [
        "def factorial(n):\n",
        "  if n == 0:\n",
        "    return 1\n",
        "  else:\n",
        "    rdd_factorial = sc.parallelize(list(range(1,n+1)))\n",
        "    return rdd_factorial.reduce(lambda x, y: x * y)\n",
        "print(factorial(5))"
      ],
      "metadata": {
        "id": "GIde9ajFzCG2",
        "colab": {
          "base_uri": "https://localhost:8080/"
        },
        "outputId": "26b7e8fd-ee62-4f97-c205-0261883165c8"
      },
      "execution_count": 16,
      "outputs": [
        {
          "output_type": "stream",
          "name": "stdout",
          "text": [
            "120\n"
          ]
        }
      ]
    }
  ]
}